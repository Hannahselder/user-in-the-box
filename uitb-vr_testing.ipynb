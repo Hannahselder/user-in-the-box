{
 "cells": [
  {
   "cell_type": "code",
   "execution_count": 2,
   "id": "5a8013c1-a744-433d-a429-c5635ec7a3f3",
   "metadata": {
    "init_cell": true,
    "scene__Default Scene": true,
    "scene__Legacy Init": true,
    "tags": [
     "ActiveScene"
    ]
   },
   "outputs": [
    {
     "name": "stdout",
     "output_type": "stream",
     "text": [
      "env: MUJOCO_GL=egl\n"
     ]
    }
   ],
   "source": [
    "%env MUJOCO_GL=egl"
   ]
  },
  {
   "cell_type": "code",
   "execution_count": 3,
   "id": "d0ad0bdd-1986-41cc-be75-f4f0284b5958",
   "metadata": {
    "init_cell": true,
    "scene__Legacy Init": true,
    "tags": [
     "ActiveScene"
    ]
   },
   "outputs": [],
   "source": [
    "import uitb\n",
    "assert \"user-in-the-box-private/\" in uitb.__file__"
   ]
  },
  {
   "cell_type": "code",
   "execution_count": 4,
   "id": "beb4137f",
   "metadata": {},
   "outputs": [],
   "source": [
    "from uitb.simulator import Simulator\n",
    "\n",
    "import numpy as np\n",
    "import os, re, glob\n",
    "import logging"
   ]
  },
  {
   "cell_type": "code",
   "execution_count": 5,
   "id": "cb944c23-58ab-4193-a35d-a33a78274b8a",
   "metadata": {},
   "outputs": [],
   "source": [
    "# import time\n",
    "\n",
    "# import mujoco\n",
    "# import mujoco.viewer\n",
    "\n",
    "# m = mujoco.MjModel.from_xml_path('/home/florian/uitb-sim2vr/user-in-the-box-private/trained/unity_hard_pretrained/unity_hard_pretrained/simulation.xml')\n",
    "# d = mujoco.MjData(m)\n",
    "\n",
    "# with mujoco.viewer.launch_passive(m, d) as viewer:\n",
    "#   # Close the viewer automatically after 30 wall-seconds.\n",
    "#   start = time.time()\n",
    "#   while viewer.is_running() and time.time() - start < 30:\n",
    "#     step_start = time.time()\n",
    "\n",
    "#     # mj_step can be replaced with code that also evaluates\n",
    "#     # a policy and applies a control signal before stepping the physics.\n",
    "#     mujoco.mj_step(m, d)\n",
    "\n",
    "#     # Example modification of a viewer option: toggle contact points every two seconds.\n",
    "#     with viewer.lock():\n",
    "#       viewer.opt.flags[mujoco.mjtVisFlag.mjVIS_CONTACTPOINT] = int(d.time % 2)\n",
    "\n",
    "#     # Pick up changes to the physics state, apply perturbations, update options from GUI.\n",
    "#     viewer.sync()\n",
    "\n",
    "#     # Rudimentary time keeping, will drift relative to wall clock.\n",
    "#     time_until_next_step = m.opt.timestep - (time.time() - step_start)\n",
    "#     if time_until_next_step > 0:\n",
    "#       time.sleep(time_until_next_step)"
   ]
  },
  {
   "cell_type": "code",
   "execution_count": 6,
   "id": "f69bd336",
   "metadata": {},
   "outputs": [],
   "source": [
    "from stable_baselines3 import PPO\n",
    "\n",
    "class EvaluationLogs(object):\n",
    "    def __init__(self, env, log_variables: dict[str, tuple[str]]):\n",
    "        #stores references to env variables in self._objects, which are evaluated and copied to self._logs when self.log() is called\n",
    "        self._env = env\n",
    "        self._log_variables = log_variables\n",
    "\n",
    "        self._logs = {}\n",
    "        self.log_counter = 0\n",
    "        \n",
    "    def log(self, use_timestamps=True, id=None):\n",
    "        # Collect logs\n",
    "        _new_log = {}\n",
    "        for log_name, log_var in self._log_variables.items():\n",
    "            _object = self._env\n",
    "            for _key in log_var:\n",
    "                _object = getattr(_object, _key)\n",
    "            if hasattr(_object, \"copy\"):\n",
    "                _new_log[log_name] = _object.copy()\n",
    "            else:\n",
    "                _new_log[log_name] = _object\n",
    "        \n",
    "        # Get index\n",
    "        if id is not None:\n",
    "            _idx = id\n",
    "        elif use_timestamps:\n",
    "            if hasattr(env, \"_data\") and hasattr(env._data, \"time\"):\n",
    "                _idx = env._data.time\n",
    "            else:\n",
    "                logging.warning(\"Could not read time from env._data object. Will use integer indices instead.\")\n",
    "        else:\n",
    "            _idx = self.log_counter\n",
    "        \n",
    "        # Store logs\n",
    "        self._logs[_idx] = _new_log\n",
    "        self.log_counter += 1\n",
    "        \n",
    "    def get_logs(self, variable=None, indices=None):\n",
    "        if variable is not None:\n",
    "            assert variable in self._log_variables, f\"Invalid variable '{variable}'. Valid variables are {self._log_variables.keys()}.\"\n",
    "            if indices is not None:\n",
    "                return {k: v[variable][indices] for k, v in self._logs.items()}\n",
    "            else:\n",
    "                return {k: v[variable] for k, v in self._logs.items()}\n",
    "        else:\n",
    "            return self._logs\n",
    "    "
   ]
  },
  {
   "cell_type": "code",
   "execution_count": 7,
   "id": "6414f4a9",
   "metadata": {},
   "outputs": [],
   "source": [
    "REMOTE_DISPLAY = True\n",
    "\n",
    "if REMOTE_DISPLAY:\n",
    "    process = os.popen(\"hostname --ip-address\")\n",
    "    _myipaddress = process.read().split()[0]\n",
    "    process.close()\n",
    "\n",
    "    # os.environ[\"DISPLAY\"] = f\"{_myipaddress}:1\"  #run remotely (X server needs to be configured to accept remote connections, see https://askubuntu.com/a/34663)\n",
    "    os.environ[\"DISPLAY\"] = f\":1\"  #run remotely (X server needs to be configured to accept remote connections, see https://askubuntu.com/a/34663)\n",
    "\n",
    "    process = os.popen(\"echo /run/user/$(id -u)\")\n",
    "    _pam = process.read().split(\"\\n\")[0]\n",
    "    process.close()\n",
    "\n",
    "    os.environ[\"XDG_RUNTIME_DIR\"] = _pam\n",
    "else:\n",
    "    # use X11 forwarding (e.g., using MobaXterm)\n",
    "    os.environ[\"DISPLAY\"] = \"localhost:10.0\"  #forward to localhost:10.0"
   ]
  },
  {
   "cell_type": "code",
   "execution_count": 8,
   "id": "2a055088",
   "metadata": {},
   "outputs": [],
   "source": [
    "# Graphics-related imports\n",
    "import matplotlib\n",
    "import matplotlib.animation as animation\n",
    "import matplotlib.pyplot as plt\n",
    "from IPython.display import HTML\n",
    "import PIL.Image, PIL.ImageDraw, PIL.ImageFont\n",
    "# Internal loading of video libraries.\n",
    "\n",
    "# Use svg backend for figure rendering\n",
    "%config InlineBackend.figure_format = 'svg'"
   ]
  },
  {
   "cell_type": "code",
   "execution_count": 9,
   "id": "f89c65b8",
   "metadata": {},
   "outputs": [],
   "source": [
    "def natural_sort(l):\n",
    "    convert = lambda text: int(text) if text.isdigit() else text.lower()\n",
    "    alphanum_key = lambda key: [convert(c) for c in re.split('([0-9]+)', key)]\n",
    "    return sorted(l, key=alphanum_key)"
   ]
  },
  {
   "cell_type": "code",
   "execution_count": 10,
   "id": "e9b2151b",
   "metadata": {},
   "outputs": [],
   "source": [
    "def get_logdir(filepath):\n",
    "    \"\"\"Get latest subdir in logging filepath that was created by Unity App.\"\"\"\n",
    "    \n",
    "    filepath = os.path.expanduser(filepath)\n",
    "    \n",
    "    subdirs = natural_sort(os.listdir(filepath))\n",
    "    \n",
    "    # only consider directories that contain a non-empty states.csv file, excluding hidden directories (e.g. '.ipynb_checkpoints')\n",
    "    subdirs = [i for i in subdirs if os.path.isdir(os.path.join(os.path.expanduser(filepath), i)) and ((not os.path.isfile(os.path.join(os.path.expanduser(filepath), i, \"states.csv\"))) or (os.path.getsize(os.path.join(os.path.expanduser(filepath), i, \"states.csv\")) > 0)) and (not i.startswith('.')) and (len(os.listdir(os.path.join(filepath, i))) > 0)]\n",
    "    \n",
    "    if len(subdirs) > 0:\n",
    "        last_subdir = subdirs[-1]\n",
    "        filepath_new = os.path.join(filepath, last_subdir)\n",
    "        if os.path.isdir(filepath_new):\n",
    "            return get_logdir(filepath_new)\n",
    "    \n",
    "    return filepath\n",
    "\n",
    "# # copy logged pickles to logging dir\n",
    "# _SIMULATION_USER_ID = 91  #fake simulation user ID used for testing\n",
    "\n",
    "# _evaluation_dir = f\"~/uitb-sim2vr/user-in-the-box-private/{_TASK_CONDITION}/evaluate/\"\n",
    "# _latest_logdir_condition = get_logdir(os.path.join(_evaluation_dir, \"logging\"))\n",
    "# # _latest_logdir = os.path.dirname(os.path.expanduser(_latest_logdir_condition))\n",
    "# os.popen(f'cp {_evaluation_dir}/*_log.pickle {_latest_logdir_condition}') #copy uitb/MuJoCo logs (pickle files) to recent unity logdir (containing the csv files)\n",
    "# if len(glob.glob(os.path.expanduser(f'{_evaluation_dir}/*.mp4'))) > 0:\n",
    "#     os.popen(f'ln -sf {_evaluation_dir}/*.mp4 {_latest_logdir_condition}') #link generated video to recent unity logdir\n",
    "# os.popen(f'mkdir -p ~/uitb-sim2vr/user-in-the-box-private/datasets/vr-uitb-experiment/{_SIMULATION_USER_ID}/')\n",
    "# os.popen(f'cp -r {_latest_logdir_condition} ~/uitb-sim2vr/user-in-the-box-private/datasets/vr-uitb-experiment/{_SIMULATION_USER_ID}/') #copy (unity) logdir to datasets\n",
    "\n",
    "def _copy_to_dataset(TASK_CONDITION, SIMULATION_USER_ID, record=True, logging=True):\n",
    "    # copy logged pickles to logging dir\n",
    "    _evaluation_dir = f\"~/uitb-sim2vr/user-in-the-box-private/{TASK_CONDITION}/evaluate/\"\n",
    "    _latest_logdir_condition = get_logdir(os.path.join(_evaluation_dir, \"logging\"))\n",
    "    # _latest_logdir = os.path.dirname(os.path.expanduser(_latest_logdir_condition))\n",
    "    os.popen(f'mkdir -p {_evaluation_dir}')\n",
    "    if logging:\n",
    "        # print(f\"cp {_evaluation_dir}/*_log.pickle {_latest_logdir_condition}\")\n",
    "        os.popen(f'cp {_evaluation_dir}/*_log.pickle {_latest_logdir_condition}') #copy uitb/MuJoCo logs (pickle files) to recent unity logdir (containing the csv files)\n",
    "    if record:\n",
    "        if len(glob.glob(os.path.expanduser(f'{_evaluation_dir}/*.mp4'))) > 0:\n",
    "            os.popen(f'ln -sf {_evaluation_dir}/*.mp4 {_latest_logdir_condition}') #link generated video to recent unity logdir\n",
    "    os.popen(f'mkdir -p ~/uitb-sim2vr/user-in-the-box-private/datasets/vr-uitb-experiment/{SIMULATION_USER_ID}/')\n",
    "    \n",
    "    # print(f'cp -r {_latest_logdir_condition} ~/uitb-sim2vr/user-in-the-box-private/datasets/vr-uitb-experiment/{SIMULATION_USER_ID}/') #copy (unity) logdir to datasets\n",
    "    os.popen(f'cp -r {_latest_logdir_condition} ~/uitb-sim2vr/user-in-the-box-private/datasets/vr-uitb-experiment/{SIMULATION_USER_ID}/') #copy (unity) logdir to datasets\n",
    "\n",
    "    print(f\"NEW [{SIMULATION_USER_ID}]: {_latest_logdir_condition} successfully registered at '~/uitb-sim2vr/user-in-the-box-private/datasets/vr-uitb-experiment/{SIMULATION_USER_ID}/'.\")"
   ]
  },
  {
   "cell_type": "code",
   "execution_count": 11,
   "id": "84338950",
   "metadata": {},
   "outputs": [],
   "source": [
    "## Custom video functions\n",
    "\n",
    "def display_video(frames, framerate=30):\n",
    "    anim = _create_animation(frames, framerate=framerate)\n",
    "    return HTML(anim.to_html5_video())\n",
    "\n",
    "def _create_animation(frames, framerate=30):\n",
    "    height, width, _ = frames[0].shape\n",
    "    dpi = 70\n",
    "    orig_backend = matplotlib.get_backend()\n",
    "    matplotlib.use('Agg')  # Switch to headless 'Agg' to inhibit figure rendering.\n",
    "    fig, ax = plt.subplots(1, 1, figsize=(width / dpi, height / dpi), dpi=dpi)\n",
    "    matplotlib.use(orig_backend)  # Switch back to the original backend.\n",
    "    ax.set_axis_off()\n",
    "    ax.set_aspect('equal')\n",
    "    ax.set_position([0, 0, 1, 1])\n",
    "    im = ax.imshow(frames[0])\n",
    "    def update(frame):\n",
    "        im.set_data(frame)\n",
    "        return [im]\n",
    "    interval = 1000/framerate\n",
    "    return animation.FuncAnimation(fig=fig, func=update, frames=frames,\n",
    "                                   interval=interval, blit=True, repeat=False)\n",
    "\n",
    "def store_video(filename, frames, framerate=30):\n",
    "    anim = _create_animation(frames, framerate=framerate)\n",
    "    \n",
    "    if filename.endswith(\".gif\"):\n",
    "        writer = animation.PillowWriter(fps=framerate)\n",
    "    elif filename.endswith(\".mp4\") or filename.endswith(\".avi\") or filename.endswith(\".mov\"):\n",
    "        writer = animation.FFMpegWriter(fps=framerate) \n",
    "    \n",
    "    filepath = os.path.dirname(filename)\n",
    "    if not os.path.exists(filepath):\n",
    "        os.makedirs(filepath)\n",
    "    \n",
    "    anim.save(filename, writer=writer)\n",
    "    \n",
    "    print(f\"Animation stored at '{filename}'.\")\n",
    "\n",
    "def add_text_to_frame(frame, text, font=\"dejavu/DejaVuSans.ttf\", pos=(20, 20), color=(255, 0, 0), fontsize=12):\n",
    "    if isinstance(frame, np.ndarray):\n",
    "        frame = PIL.Image.fromarray(frame)\n",
    "    \n",
    "    draw = PIL.ImageDraw.Draw(frame)\n",
    "    draw.text(pos, text, fill=color, font=PIL.ImageFont.truetype(font, fontsize))\n",
    "    return frame\n",
    "\n",
    "def display_video_with_rewards(frames, rewards, framerate=30):\n",
    "    assert len(frames) == len(rewards), f\"Size of frames and rewards does not match ({len(frames)}, {len(rewards)})!\"\n",
    "    \n",
    "    for frame_id, reward in enumerate(rewards):\n",
    "        frames[frame_id] = np.array(add_text_to_frame(frames[frame_id],\n",
    "                        f\"#{frame_id}\",\n",
    "                        pos=(5, 5), color=(0, 0, 0), fontsize=18))\n",
    "        frames[frame_id] = np.array(add_text_to_frame(frames[frame_id],\n",
    "                        f\"Reward {reward:.2f}\",\n",
    "                        pos=(15, 25), color=(99, 207, 163), fontsize=24))\n",
    "\n",
    "    anim = _create_animation(frames, framerate=framerate)\n",
    "    return HTML(anim.to_html5_video())"
   ]
  },
  {
   "attachments": {},
   "cell_type": "markdown",
   "id": "ce656483-f380-4c01-beec-8f9f8d5fc869",
   "metadata": {},
   "source": [
    "## Test Unity Environment"
   ]
  },
  {
   "cell_type": "code",
   "execution_count": null,
   "id": "4aea8ca2-b354-4de8-bba4-c836ee28b333",
   "metadata": {},
   "outputs": [],
   "source": [
    "# import subprocess\n",
    "# import socket\n",
    "# import os\n",
    "\n",
    "# with socket.socket() as s:\n",
    "#     s.bind(('', 0))\n",
    "#     port =  s.getsockname()[1]\n",
    "    \n",
    "# env_with_display = os.environ.copy()\n",
    "# # if \"DISPLAY\" not in env_with_display:\n",
    "# #     env_with_display[\"DISPLAY\"] = \":10.0\"\n",
    "\n",
    "# unity_executable = \"/home/florian/uitb-sim2vr/user-in-the-box-private/trained/unity_hard_pretrained/unity_hard_pretrained/tasks/unity/build/build.x86_64\"\n",
    "# subprocess.Popen([unity_executable,\n",
    "#                                     '-simulated',\n",
    "#                                     '-port', f'{port}',\n",
    "#                                     '-logFile', \"/home/florian/uitb-sim2vr/user-in-the-box-private/trained/unity_hard_pretrained/unity_hard_pretrained/tasks/unity/build/test.log\"] + [], env=env_with_display)"
   ]
  },
  {
   "cell_type": "code",
   "execution_count": null,
   "id": "021545b9-0225-4187-b49b-d241ca601d95",
   "metadata": {},
   "outputs": [],
   "source": [
    "[env._model.joint(i).name for i in range(env._model.njnt)]\n",
    "#env._model.jint(1).name\n",
    "\n",
    "[env._model.qpos0[i] for i in [25, 26, 28, 29, 30, 31, 32]] #range(env._model.njnt)]\n",
    "# env._model.qpos0[14]"
   ]
  },
  {
   "cell_type": "code",
   "execution_count": null,
   "id": "1c879903-c946-4a66-a2a2-26c3cbf56b3b",
   "metadata": {},
   "outputs": [],
   "source": [
    "[env._data.body(i).name for i in range(env._model.nbody)]\n",
    "env._data.body(\"headset\")"
   ]
  },
  {
   "cell_type": "code",
   "execution_count": 12,
   "id": "efc8120a-2988-46bf-a681-8b80369cca91",
   "metadata": {},
   "outputs": [
    {
     "name": "stdout",
     "output_type": "stream",
     "text": [
      "Attempting to connect to Unity app\n",
      "[UnityMemory] Configuration Parameters - Can be set up in boot.config\n",
      "    \"memorysetup-bucket-allocator-granularity=16\"\n",
      "    \"memorysetup-bucket-allocator-bucket-count=8\"\n",
      "    \"memorysetup-bucket-allocator-block-size=4194304\"\n",
      "    \"memorysetup-bucket-allocator-block-count=1\"\n",
      "    \"memorysetup-main-allocator-block-size=16777216\"\n",
      "    \"memorysetup-thread-allocator-block-size=16777216\"\n",
      "    \"memorysetup-gfx-main-allocator-block-size=16777216\"\n",
      "    \"memorysetup-gfx-thread-allocator-block-size=16777216\"\n",
      "    \"memorysetup-cache-allocator-block-size=4194304\"\n",
      "    \"memorysetup-typetree-allocator-block-size=2097152\"\n",
      "    \"memorysetup-profiler-bucket-allocator-granularity=16\"\n",
      "    \"memorysetup-profiler-bucket-allocator-bucket-count=8\"\n",
      "    \"memorysetup-profiler-bucket-allocator-block-size=4194304\"\n",
      "    \"memorysetup-profiler-bucket-allocator-block-count=1\"\n",
      "    \"memorysetup-profiler-allocator-block-size=16777216\"\n",
      "    \"memorysetup-profiler-editor-allocator-block-size=1048576\"\n",
      "    \"memorysetup-temp-allocator-size-main=4194304\"\n",
      "    \"memorysetup-job-temp-allocator-block-size=2097152\"\n",
      "    \"memorysetup-job-temp-allocator-block-size-background=1048576\"\n",
      "    \"memorysetup-job-temp-allocator-reduction-small-platforms=262144\"\n",
      "    \"memorysetup-temp-allocator-size-background-worker=32768\"\n",
      "    \"memorysetup-temp-allocator-size-job-worker=262144\"\n",
      "    \"memorysetup-temp-allocator-size-preload-manager=262144\"\n",
      "    \"memorysetup-temp-allocator-size-nav-mesh-worker=65536\"\n",
      "    \"memorysetup-temp-allocator-size-audio-worker=65536\"\n",
      "    \"memorysetup-temp-allocator-size-cloud-worker=32768\"\n",
      "    \"memorysetup-temp-allocator-size-gfx=262144\"\n",
      "Connection confirmed\n"
     ]
    },
    {
     "data": {
      "text/plain": [
       "<_MjDataBodyViews\n",
       "  cacc: array([0., 0., 0., 0., 0., 0.])\n",
       "  cfrc_ext: array([0., 0., 0., 0., 0., 0.])\n",
       "  cfrc_int: array([0., 0., 0., 0., 0., 0.])\n",
       "  cinert: array([ 1.05142328e-03,  2.04909150e-03,  2.36839951e-03, -2.66523107e-07,\n",
       "        3.76146109e-04, -2.78608326e-07,  7.92421684e-18,  0.00000000e+00,\n",
       "        0.00000000e+00,  5.71000000e-01])\n",
       "  crb: array([ 1.05142328e-03,  2.04909150e-03,  2.36839951e-03, -2.66523107e-07,\n",
       "        3.76146109e-04, -2.78608326e-07,  7.92421684e-18,  0.00000000e+00,\n",
       "        0.00000000e+00,  5.71000000e-01])\n",
       "  cvel: array([0., 0., 0., 0., 0., 0.])\n",
       "  id: 2\n",
       "  name: 'headset'\n",
       "  subtree_angmom: array([0., 0., 0.])\n",
       "  subtree_com: array([ 0.06844835, -0.00131681,  1.18956479])\n",
       "  subtree_linvel: array([0., 0., 0.])\n",
       "  xfrc_applied: array([0., 0., 0., 0., 0., 0.])\n",
       "  ximat: array([ 2.56594463e-01, -4.28093110e-05,  9.66519156e-01, -8.05567172e-04,\n",
       "       -9.99999661e-01,  1.69572199e-04,  9.66518822e-01, -8.22107391e-04,\n",
       "       -2.56594410e-01])\n",
       "  xipos: array([ 0.06844835, -0.00131681,  1.18956479])\n",
       "  xmat: array([ 0.98480778,  0.        ,  0.17364804,  0.        ,  1.        ,\n",
       "        0.        , -0.17364804,  0.        ,  0.98480778])\n",
       "  xpos: array([ 0.138642, -0.001594,  1.16992 ])\n",
       "  xquat: array([0.9961947 , 0.        , 0.08715567, 0.        ])\n",
       ">"
      ]
     },
     "execution_count": 12,
     "metadata": {},
     "output_type": "execute_result"
    }
   ],
   "source": [
    "env = uitb.Simulator.get(\"/home/florian/uitb-sim2vr/user-in-the-box-private/simulators/unity_difficulty_easy_ce\", run_parameters={\"action_sample_freq\": 20, \"evaluate\": True}, use_cloned=True)\n",
    "env._data.body(\"headset\")"
   ]
  },
  {
   "cell_type": "code",
   "execution_count": null,
   "id": "a0866e2a-6d64-4341-8132-4977b832b669",
   "metadata": {},
   "outputs": [],
   "source": [
    "# import mujoco\n",
    "\n",
    "# [mujoco.mju_muscleGain(env._data.actuator_length[i], env._data.actuator_velocity[i], env._model.actuator_lengthrange[i], env._model.actuator_acc0[i], env._model.actuator_gainprm[i, :9])*env._data.act[i] + mujoco.mju_muscleBias(env._data.actuator_length[i], env._model.actuator_lengthrange[i], env._model.actuator_acc0[i], env._model.actuator_biasprm[i, :9]) for i in range(env._model.nu)]"
   ]
  },
  {
   "cell_type": "code",
   "execution_count": null,
   "id": "1c5209e7-03aa-48d9-961b-60a399163159",
   "metadata": {},
   "outputs": [],
   "source": [
    "#env.bm_model._effort_model._MA"
   ]
  },
  {
   "attachments": {},
   "cell_type": "markdown",
   "id": "12548be1",
   "metadata": {},
   "source": [
    "### Store policy params"
   ]
  },
  {
   "cell_type": "code",
   "execution_count": 37,
   "id": "60438d3b",
   "metadata": {},
   "outputs": [
    {
     "name": "stdout",
     "output_type": "stream",
     "text": [
      "Attempting to connect to Unity app\n",
      "[UnityMemory] Configuration Parameters - Can be set up in boot.config\n",
      "    \"memorysetup-bucket-allocator-granularity=16\"\n",
      "    \"memorysetup-bucket-allocator-bucket-count=8\"\n",
      "    \"memorysetup-bucket-allocator-block-size=4194304\"\n",
      "    \"memorysetup-bucket-allocator-block-count=1\"\n",
      "    \"memorysetup-main-allocator-block-size=16777216\"\n",
      "    \"memorysetup-thread-allocator-block-size=16777216\"\n",
      "    \"memorysetup-gfx-main-allocator-block-size=16777216\"\n",
      "    \"memorysetup-gfx-thread-allocator-block-size=16777216\"\n",
      "    \"memorysetup-cache-allocator-block-size=4194304\"\n",
      "    \"memorysetup-typetree-allocator-block-size=2097152\"\n",
      "    \"memorysetup-profiler-bucket-allocator-granularity=16\"\n",
      "    \"memorysetup-profiler-bucket-allocator-bucket-count=8\"\n",
      "    \"memorysetup-profiler-bucket-allocator-block-size=4194304\"\n",
      "    \"memorysetup-profiler-bucket-allocator-block-count=1\"\n",
      "    \"memorysetup-profiler-allocator-block-size=16777216\"\n",
      "    \"memorysetup-profiler-editor-allocator-block-size=1048576\"\n",
      "    \"memorysetup-temp-allocator-size-main=4194304\"\n",
      "    \"memorysetup-job-temp-allocator-block-size=2097152\"\n",
      "    \"memorysetup-job-temp-allocator-block-size-background=1048576\"\n",
      "    \"memorysetup-job-temp-allocator-reduction-small-platforms=262144\"\n",
      "    \"memorysetup-temp-allocator-size-background-worker=32768\"\n",
      "    \"memorysetup-temp-allocator-size-job-worker=262144\"\n",
      "    \"memorysetup-temp-allocator-size-preload-manager=262144\"\n",
      "    \"memorysetup-temp-allocator-size-nav-mesh-worker=65536\"\n",
      "    \"memorysetup-temp-allocator-size-audio-worker=65536\"\n",
      "    \"memorysetup-temp-allocator-size-cloud-worker=32768\"\n",
      "    \"memorysetup-temp-allocator-size-gfx=262144\"\n",
      "Connection confirmed\n"
     ]
    },
    {
     "data": {
      "text/plain": [
       "<stable_baselines3.ppo.ppo.PPO at 0x7f89a6080810>"
      ]
     },
     "execution_count": 37,
     "metadata": {},
     "output_type": "execute_result"
    }
   ],
   "source": [
    "simulator_dir = \"/home/florian/uitb-sim2vr/user-in-the-box-private/simulators/unity_high_difficulty_easy\"\n",
    "env = uitb.Simulator.get(simulator_dir, run_parameters={\"action_sample_freq\": 20, \"evaluate\": True}, use_cloned=False)\n",
    "_checkpoint_dir = f\"{simulator_dir}/checkpoints\"  #checkpoints_20230508_175546\n",
    "_policy = PPO.load(os.path.join(_checkpoint_dir, \"model_15000000_steps\"))\n",
    "# _policy = PPO.load(os.path.join(_checkpoint_dir, natural_sort(os.listdir(_checkpoint_dir))[-1]))  #use latest policy\n",
    "_policy"
   ]
  },
  {
   "cell_type": "code",
   "execution_count": 42,
   "id": "433d3558",
   "metadata": {},
   "outputs": [],
   "source": [
    "_policy_filepath = f'/home/florian/uitb-sim2vr/user-in-the-box-private/uitb/rl/sb3/policies/{simulator_dir.split(\"/\")[-1]}'\n",
    "os.popen(f\"mkdir -p {_policy_filepath}\")\n",
    "_policy_filename = \"parameters-15mil.npy\""
   ]
  },
  {
   "cell_type": "code",
   "execution_count": 43,
   "id": "f0b8f483",
   "metadata": {},
   "outputs": [],
   "source": [
    "np.save(os.path.join(_policy_filepath, _policy_filename), _policy.policy.parameters_to_vector())"
   ]
  },
  {
   "attachments": {},
   "cell_type": "markdown",
   "id": "3c909404",
   "metadata": {},
   "source": [
    "### Evaluations"
   ]
  },
  {
   "cell_type": "code",
   "execution_count": 20,
   "id": "a1a0522f",
   "metadata": {},
   "outputs": [],
   "source": [
    "#simulator_dir = uitb.Simulator.build(\"/home/florian/uitb-sim2vr/user-in-the-box-private/uitb/configs/mobl_arms_unity_low_easy_TEST.yaml\")\n",
    "simulator_dir = uitb.Simulator.build(\"/home/florian/uitb-sim2vr/user-in-the-box-private/uitb/configs/mobl_arms_unity_high_easy_3CCr_0_v111.yaml\")"
   ]
  },
  {
   "cell_type": "code",
   "execution_count": 12,
   "id": "1d51473c",
   "metadata": {},
   "outputs": [],
   "source": [
    "## UPDATE DEBUGGING SIMULATOR\n",
    "simulator_dir = uitb.Simulator.build(\"/home/florian/uitb-sim2vr/user-in-the-box-private/uitb/configs/mobl_arms_unity_high_easy_DEBUG.yaml\")\n",
    "simulator_dir = uitb.Simulator.build(\"/home/florian/uitb-sim2vr/user-in-the-box-private/uitb/configs/mobl_arms_unity_beatsvr_DEBUG.yaml\")"
   ]
  },
  {
   "cell_type": "code",
   "execution_count": 105,
   "id": "abe66df5-5523-465a-bc96-15311ac4aca8",
   "metadata": {},
   "outputs": [
    {
     "name": "stdout",
     "output_type": "stream",
     "text": [
      "Attempting to connect to Unity app\n",
      "[UnityMemory] Configuration Parameters - Can be set up in boot.config\n",
      "    \"memorysetup-bucket-allocator-granularity=16\"\n",
      "    \"memorysetup-bucket-allocator-bucket-count=8\"\n",
      "    \"memorysetup-bucket-allocator-block-size=4194304\"\n",
      "    \"memorysetup-bucket-allocator-block-count=1\"\n",
      "    \"memorysetup-main-allocator-block-size=16777216\"\n",
      "    \"memorysetup-thread-allocator-block-size=16777216\"\n",
      "    \"memorysetup-gfx-main-allocator-block-size=16777216\"\n",
      "    \"memorysetup-gfx-thread-allocator-block-size=16777216\"\n",
      "    \"memorysetup-cache-allocator-block-size=4194304\"\n",
      "    \"memorysetup-typetree-allocator-block-size=2097152\"\n",
      "    \"memorysetup-profiler-bucket-allocator-granularity=16\"\n",
      "    \"memorysetup-profiler-bucket-allocator-bucket-count=8\"\n",
      "    \"memorysetup-profiler-bucket-allocator-block-size=4194304\"\n",
      "    \"memorysetup-profiler-bucket-allocator-block-count=1\"\n",
      "    \"memorysetup-profiler-allocator-block-size=16777216\"\n",
      "    \"memorysetup-profiler-editor-allocator-block-size=1048576\"\n",
      "    \"memorysetup-temp-allocator-size-main=4194304\"\n",
      "    \"memorysetup-job-temp-allocator-block-size=2097152\"\n",
      "    \"memorysetup-job-temp-allocator-block-size-background=1048576\"\n",
      "    \"memorysetup-job-temp-allocator-reduction-small-platforms=262144\"\n",
      "    \"memorysetup-temp-allocator-size-background-worker=32768\"\n",
      "    \"memorysetup-temp-allocator-size-job-worker=262144\"\n",
      "    \"memorysetup-temp-allocator-size-preload-manager=262144\"\n",
      "    \"memorysetup-temp-allocator-size-nav-mesh-worker=65536\"\n",
      "    \"memorysetup-temp-allocator-size-audio-worker=65536\"\n",
      "    \"memorysetup-temp-allocator-size-cloud-worker=32768\"\n",
      "    \"memorysetup-temp-allocator-size-gfx=262144\"\n",
      "Connection confirmed\n"
     ]
    }
   ],
   "source": [
    "# if not \"env\" in locals():\n",
    "#     env = uitb.Simulator.get(\"/home/florian/uitb-sim2vr/user-in-the-box-private/trained/unity_hard_pretrained\", run_parameters={\"action_sample_freq\": 20, \"evaluate\": True}, render_mode=\"rgb_array_list\", render_show_depths=False, use_cloned=True)\n",
    "# env = uitb.Simulator.get(\"/home/florian/uitb-sim2vr/user-in-the-box-private/trained/unity_hard_pretrained\", run_parameters={\"action_sample_freq\": 20, \"evaluate\": True}, render_mode=\"rgb_array_list\", render_show_depths=False, use_cloned=True)\n",
    "# env = uitb.Simulator.get(\"/home/florian/uitb-sim2vr/user-in-the-box-private/trained/unity_low_pretrained\", run_parameters={\"action_sample_freq\": 20, \"evaluate\": True}, use_cloned=True)\n",
    "# simulator_dir = \"/home/florian/uitb-sim2vr/user-in-the-box-private/trained/unity_easy\"\n",
    "# simulator_dir = \"/home/florian/uitb-sim2vr/user-in-the-box-private/simulators/unity_difficulty_easy_cumulativefatigue_v2\"\n",
    "# simulator_dir = \"/home/florian/uitb-sim2vr/user-in-the-box-private/simulators/test_unity_difficulty_easy_3ccr\"\n",
    "# simulator_dir = \"/home/florian/uitb-sim2vr/user-in-the-box-private/simulators/unity_high_difficulty_easy_3ccr_0_10s\"\n",
    "# simulator_dir = \"/home/florian/uitb-sim2vr/user-in-the-box-private/simulators/unity_difficulty_easy\"\n",
    "\n",
    "# simulator_dir = \"/home/florian/uitb-sim2vr/user-in-the-box-private/simulators/unity_beatsvr_test\"\n",
    "# simulator_dir = \"/home/florian/uitb-sim2vr/user-in-the-box-private/simulators/unity_low_difficulty_easy_test\"\n",
    "\n",
    "env = uitb.Simulator.get(simulator_dir, run_parameters={\"action_sample_freq\": 20,\"evaluate\": True}, render_mode=\"rgb_array_list\", use_cloned=True)\n",
    "\n",
    "# ## TEST with different effort model:\n",
    "from uitb.bm_models.effort_models import CumulativeFatigue3CCr, ConsumedEndurance\n",
    "# env.bm_model._effort_model = CumulativeFatigue3CCr(env.bm_model, dt=env._run_parameters[\"dt\"])  #env.bm_model.get_effort_model({\"cls\": \"CumulativeFatigue3CCr\"}, dt=env._run_parameters[\"dt\"])\n",
    "log_variables = {\n",
    "                # \"3CCr_MA\": (\"bm_model\", \"_effort_model\", \"_MA\"), \n",
    "                # \"3CCr_MR\": (\"bm_model\", \"_effort_model\", \"_MR\"),\n",
    "                # \"3CCr_MF\": (\"bm_model\", \"_effort_model\", \"_MF\"),\n",
    "                # \"effort_cost\": (\"bm_model\", \"_effort_model\", \"_effort_cost\")\n",
    "                }\n",
    "# env.bm_model._effort_model = ConsumedEndurance(env.bm_model, dt=env._run_parameters[\"dt\"])  #env.bm_model.get_effort_model({\"cls\": \"ConsumedEndurance\"}, dt=env._run_parameters[\"dt\"])\n",
    "# log_variables = {\"endurance\": (\"bm_model\", \"_effort_model\", \"_endurance\"),\n",
    "#                 \"consumed_endurance\": (\"bm_model\", \"_effort_model\", \"_consumed_endurance\"),\n",
    "#                 \"act\": (\"_data\", \"act\"),\n",
    "#                 \"effort_cost\": (\"bm_model\", \"_effort_model\", \"_effort_cost\")}\n",
    "\n",
    "USE_POLICY = False\n",
    "\n",
    "# Number of steps you run the agent for \n",
    "num_steps = 50#00\n",
    "\n",
    "#############################################################\n",
    "\n",
    "\n",
    "# Reset with some seed for debugging purposes\n",
    "# obs = env.reset()\n",
    "obs, info = env.reset()\n",
    "\n",
    "# Create instance for variables that should be additionally logged\n",
    "eval_logs = EvaluationLogs(env, log_variables)\n",
    "\n",
    "# Create empty list which all frames of the forward simulation will be appended to\n",
    "frame_collection = []\n",
    "\n",
    "# Create list which all rewards of the forward simulation will be appended to\n",
    "reward_collection = [np.nan]  #no reward available at initial state\n",
    "\n",
    "obs_collection = [obs]\n",
    "info_collection = []\n",
    "\n",
    "if USE_POLICY:\n",
    "    _checkpoint_dir = f\"{simulator_dir}/checkpoints\"  #checkpoints_20230508_175546\n",
    "    # _policy_path = os.path.join(_checkpoint_dir, \"model_100000000_steps\")\n",
    "    _policy_path = os.path.join(_checkpoint_dir, natural_sort(os.listdir(_checkpoint_dir))[-1])  #use latest policy\n",
    "    print(f\"Load PPO policy {_policy_path}.\")\n",
    "\n",
    "    _policy = PPO.load(_policy_path)\n",
    "else:\n",
    "    _policy = None\n",
    "\n",
    "for step in range(num_steps):\n",
    "    if _policy is not None:\n",
    "        # get actions from policy\n",
    "        action, _internal_policy_state = _policy.predict(obs, deterministic=True)\n",
    "    else:\n",
    "        # choose random action from action space\n",
    "        action = env.action_space.sample()    \n",
    "    \n",
    "    # apply the action\n",
    "    # obs, reward, done, info = env.step(action)\n",
    "    obs, reward, terminated, truncated, info = env.step(action)\n",
    "    \n",
    "    # store received reward\n",
    "    reward_collection.append(reward)\n",
    "    \n",
    "    obs_collection.append(obs)\n",
    "    info_collection.append(info)\n",
    "    \n",
    "    # log additional variables\n",
    "    eval_logs.log()\n",
    "    \n",
    "    # If the epsiode is up, then stop\n",
    "    # if done:\n",
    "    if terminated or truncated:\n",
    "        frame_collection.extend(env.render()) #with render_mode=\"rgb_array_list\", env.render() returns a list of all frames since last call of reset()\n",
    "        break\n",
    "\n",
    "# Also store remaining frames of unfinished last episode\n",
    "frame_collection.extend(env.render())\n",
    "\n",
    "# Close the env\n",
    "env.close()\n",
    "\n",
    "# Show all simulated frames\n",
    "# display_video(frame_collection, framerate=env.fps)\n",
    "#display_video_with_rewards(frame_collection, reward_collection, framerate=env.fps)"
   ]
  },
  {
   "cell_type": "code",
   "execution_count": 42,
   "id": "9f843391",
   "metadata": {},
   "outputs": [
    {
     "ename": "FileNotFoundError",
     "evalue": "[Errno 2] No such file or directory: '/home/florian/uitb-sim2vr/user-in-the-box-private/uitb/tasks/unity/build/build.x86_64'",
     "output_type": "error",
     "traceback": [
      "\u001b[0;31m---------------------------------------------------------------------------\u001b[0m",
      "\u001b[0;31mFileNotFoundError\u001b[0m                         Traceback (most recent call last)",
      "Cell \u001b[0;32mIn[42], line 11\u001b[0m\n\u001b[1;32m      1\u001b[0m \u001b[39m# if not \"env\" in locals():\u001b[39;00m\n\u001b[1;32m      2\u001b[0m \u001b[39m#     env = uitb.Simulator.get(\"/home/florian/uitb-sim2vr/user-in-the-box-private/trained/unity_hard_pretrained\", run_parameters={\"action_sample_freq\": 20, \"evaluate\": True}, render_mode=\"rgb_array_list\", render_show_depths=False, use_cloned=True)\u001b[39;00m\n\u001b[1;32m      3\u001b[0m \u001b[39m# env = uitb.Simulator.get(\"/home/florian/uitb-sim2vr/user-in-the-box-private/trained/unity_hard_pretrained\", run_parameters={\"action_sample_freq\": 20, \"evaluate\": True}, render_mode=\"rgb_array_list\", render_show_depths=False, use_cloned=True)\u001b[39;00m\n\u001b[0;32m   (...)\u001b[0m\n\u001b[1;32m      7\u001b[0m \u001b[39m# simulator_dir = \"/home/florian/uitb-sim2vr/user-in-the-box-private/simulators/test_unity_difficulty_easy_3ccr\"\u001b[39;00m\n\u001b[1;32m      8\u001b[0m \u001b[39m# simulator_dir = \"/home/florian/uitb-sim2vr/user-in-the-box-private/simulators/unity_high_difficulty_easy_3ccr\"\u001b[39;00m\n\u001b[1;32m      9\u001b[0m simulator_dir \u001b[39m=\u001b[39m \u001b[39m\"\u001b[39m\u001b[39m/home/florian/uitb-sim2vr/user-in-the-box-private/simulators/unity_difficulty_easy\u001b[39m\u001b[39m\"\u001b[39m\n\u001b[0;32m---> 11\u001b[0m env \u001b[39m=\u001b[39m uitb\u001b[39m.\u001b[39;49mSimulator\u001b[39m.\u001b[39;49mget(simulator_dir, run_parameters\u001b[39m=\u001b[39;49m{\u001b[39m\"\u001b[39;49m\u001b[39maction_sample_freq\u001b[39;49m\u001b[39m\"\u001b[39;49m: \u001b[39m20\u001b[39;49m, \u001b[39m\"\u001b[39;49m\u001b[39mevaluate\u001b[39;49m\u001b[39m\"\u001b[39;49m: \u001b[39mTrue\u001b[39;49;00m}, use_cloned\u001b[39m=\u001b[39;49m\u001b[39mFalse\u001b[39;49;00m)\n\u001b[1;32m     13\u001b[0m \u001b[39m# ## TEST with different effort model:\u001b[39;00m\n\u001b[1;32m     14\u001b[0m \u001b[39m# from uitb.bm_models.effort_models import CumulativeFatigue3CCr, ConsumedEndurance\u001b[39;00m\n\u001b[1;32m     15\u001b[0m \u001b[39m# env.bm_model._effort_model = CumulativeFatigue3CCr(env.bm_model, dt=env._run_parameters[\"dt\"])  #env.bm_model.get_effort_model({\"cls\": \"CumulativeFatigue3CCr\"}, dt=env._run_parameters[\"dt\"])\u001b[39;00m\n\u001b[1;32m     16\u001b[0m log_variables \u001b[39m=\u001b[39m {\n\u001b[1;32m     17\u001b[0m                 \u001b[39m# \"3CCr_MA\": (\"bm_model\", \"_effort_model\", \"_MA\"), \u001b[39;00m\n\u001b[1;32m     18\u001b[0m                 \u001b[39m# \"3CCr_MR\": (\"bm_model\", \"_effort_model\", \"_MR\"),\u001b[39;00m\n\u001b[1;32m     19\u001b[0m                 \u001b[39m# \"3CCr_MF\": (\"bm_model\", \"_effort_model\", \"_MF\"),\u001b[39;00m\n\u001b[1;32m     20\u001b[0m                 \u001b[39m# \"effort_cost\": (\"bm_model\", \"_effort_model\", \"_effort_cost\")\u001b[39;00m\n\u001b[1;32m     21\u001b[0m                 }\n",
      "File \u001b[0;32m~/uitb-sim2vr/user-in-the-box-private/uitb/simulator.py:310\u001b[0m, in \u001b[0;36mSimulator.get\u001b[0;34m(cls, simulator_folder, render_mode, render_show_depths, run_parameters, use_cloned)\u001b[0m\n\u001b[1;32m    308\u001b[0m   _simulator \u001b[39m=\u001b[39m gen_cls(simulator_folder, run_parameters\u001b[39m=\u001b[39mrun_parameters)\n\u001b[1;32m    309\u001b[0m \u001b[39melse\u001b[39;00m:\n\u001b[0;32m--> 310\u001b[0m   _simulator \u001b[39m=\u001b[39m gen_cls(simulator_folder, render_mode\u001b[39m=\u001b[39;49mrender_mode, render_show_depths\u001b[39m=\u001b[39;49mrender_show_depths,\n\u001b[1;32m    311\u001b[0m                       run_parameters\u001b[39m=\u001b[39;49mrun_parameters)\n\u001b[1;32m    313\u001b[0m \u001b[39m# Return Simulator object\u001b[39;00m\n\u001b[1;32m    314\u001b[0m \u001b[39mreturn\u001b[39;00m _simulator\n",
      "File \u001b[0;32m~/uitb-sim2vr/user-in-the-box-private/uitb/simulator.py:345\u001b[0m, in \u001b[0;36mSimulator.__init__\u001b[0;34m(self, simulator_folder, render_mode, render_show_depths, run_parameters)\u001b[0m\n\u001b[1;32m    341\u001b[0m \u001b[39mself\u001b[39m\u001b[39m.\u001b[39m_run_parameters\u001b[39m.\u001b[39mupdate(run_parameters \u001b[39mor\u001b[39;00m {})\n\u001b[1;32m    343\u001b[0m \u001b[39m# Initialise simulation\u001b[39;00m\n\u001b[1;32m    344\u001b[0m \u001b[39mself\u001b[39m\u001b[39m.\u001b[39m_model, \u001b[39mself\u001b[39m\u001b[39m.\u001b[39m_data, \u001b[39mself\u001b[39m\u001b[39m.\u001b[39mtask, \u001b[39mself\u001b[39m\u001b[39m.\u001b[39mbm_model, \u001b[39mself\u001b[39m\u001b[39m.\u001b[39mperception, \u001b[39mself\u001b[39m\u001b[39m.\u001b[39mcallbacks \u001b[39m=\u001b[39m \\\n\u001b[0;32m--> 345\u001b[0m   \u001b[39mself\u001b[39;49m\u001b[39m.\u001b[39;49m_initialise(\u001b[39mself\u001b[39;49m\u001b[39m.\u001b[39;49m_config, \u001b[39mself\u001b[39;49m\u001b[39m.\u001b[39;49m_simulator_folder, \u001b[39mself\u001b[39;49m\u001b[39m.\u001b[39;49m_run_parameters)\n\u001b[1;32m    347\u001b[0m \u001b[39m# Set action space TODO for now we assume all actuators have control signals between [-1, 1]\u001b[39;00m\n\u001b[1;32m    348\u001b[0m \u001b[39mself\u001b[39m\u001b[39m.\u001b[39maction_space \u001b[39m=\u001b[39m \u001b[39mself\u001b[39m\u001b[39m.\u001b[39m_initialise_action_space()\n",
      "File \u001b[0;32m~/uitb-sim2vr/user-in-the-box-private/uitb/simulator.py:247\u001b[0m, in \u001b[0;36mSimulator._initialise\u001b[0;34m(cls, config, simulator_folder, run_parameters)\u001b[0m\n\u001b[1;32m    243\u001b[0m   callbacks[cb[\u001b[39m\"\u001b[39m\u001b[39mname\u001b[39m\u001b[39m\"\u001b[39m]] \u001b[39m=\u001b[39m \u001b[39mcls\u001b[39m\u001b[39m.\u001b[39mget_class(cb[\u001b[39m\"\u001b[39m\u001b[39mcls\u001b[39m\u001b[39m\"\u001b[39m])(cb[\u001b[39m\"\u001b[39m\u001b[39mname\u001b[39m\u001b[39m\"\u001b[39m], \u001b[39m*\u001b[39m\u001b[39m*\u001b[39mcb[\u001b[39m\"\u001b[39m\u001b[39mkwargs\u001b[39m\u001b[39m\"\u001b[39m])\n\u001b[1;32m    245\u001b[0m \u001b[39m# Now initialise the actual classes; model and data are input to the inits so that stuff can be modified if needed\u001b[39;00m\n\u001b[1;32m    246\u001b[0m \u001b[39m# (e.g. move target to a specific position wrt to a body part)\u001b[39;00m\n\u001b[0;32m--> 247\u001b[0m task \u001b[39m=\u001b[39m task_cls(model, data, \u001b[39m*\u001b[39;49m\u001b[39m*\u001b[39;49m{\u001b[39m*\u001b[39;49m\u001b[39m*\u001b[39;49mtask_kwargs, \u001b[39m*\u001b[39;49m\u001b[39m*\u001b[39;49mcallbacks, \u001b[39m*\u001b[39;49m\u001b[39m*\u001b[39;49mrun_parameters})\n\u001b[1;32m    248\u001b[0m bm_model \u001b[39m=\u001b[39m bm_cls(model, data, \u001b[39m*\u001b[39m\u001b[39m*\u001b[39m{\u001b[39m*\u001b[39m\u001b[39m*\u001b[39mbm_kwargs, \u001b[39m*\u001b[39m\u001b[39m*\u001b[39mcallbacks, \u001b[39m*\u001b[39m\u001b[39m*\u001b[39mrun_parameters})\n\u001b[1;32m    249\u001b[0m perception \u001b[39m=\u001b[39m Perception(model, data, bm_model, perception_modules, {\u001b[39m*\u001b[39m\u001b[39m*\u001b[39mcallbacks, \u001b[39m*\u001b[39m\u001b[39m*\u001b[39mrun_parameters})\n",
      "File \u001b[0;32m~/uitb-sim2vr/user-in-the-box-private/uitb/tasks/base.py:64\u001b[0m, in \u001b[0;36mBaseTask.__init_subclass__.<locals>.init_with_hook\u001b[0;34m(self, model, data, init, **init_kwargs)\u001b[0m\n\u001b[1;32m     63\u001b[0m \u001b[39mdef\u001b[39;00m \u001b[39minit_with_hook\u001b[39m(\u001b[39mself\u001b[39m, model, data, init\u001b[39m=\u001b[39m\u001b[39mcls\u001b[39m\u001b[39m.\u001b[39m\u001b[39m__init__\u001b[39m, \u001b[39m*\u001b[39m\u001b[39m*\u001b[39minit_kwargs):\n\u001b[0;32m---> 64\u001b[0m   init(\u001b[39mself\u001b[39;49m, model, data, \u001b[39m*\u001b[39;49m\u001b[39m*\u001b[39;49minit_kwargs)\n\u001b[1;32m     66\u001b[0m   \u001b[39m# Set stateful information shape\u001b[39;00m\n\u001b[1;32m     67\u001b[0m   \u001b[39mself\u001b[39m\u001b[39m.\u001b[39m_stateful_information_shape \u001b[39m=\u001b[39m \u001b[39mself\u001b[39m\u001b[39m.\u001b[39mget_stateful_information(model, data)\u001b[39m.\u001b[39mshape\n",
      "File \u001b[0;32m~/uitb-sim2vr/user-in-the-box-private/uitb/tasks/unity/Unity.py:54\u001b[0m, in \u001b[0;36mUnity.__init__\u001b[0;34m(self, model, data, gear, left_controller_enabled, **kwargs)\u001b[0m\n\u001b[1;32m     51\u001b[0m   app_args\u001b[39m.\u001b[39mextend([\u001b[39m\"\u001b[39m\u001b[39m-fixedSeed\u001b[39m\u001b[39m\"\u001b[39m, \u001b[39mf\u001b[39m\u001b[39m\"\u001b[39m\u001b[39m{\u001b[39;00mkwargs[\u001b[39m'\u001b[39m\u001b[39munity_random_seed\u001b[39m\u001b[39m'\u001b[39m]\u001b[39m}\u001b[39;00m\u001b[39m\"\u001b[39m])\n\u001b[1;32m     53\u001b[0m \u001b[39m# Start a Unity client\u001b[39;00m\n\u001b[0;32m---> 54\u001b[0m \u001b[39mself\u001b[39m\u001b[39m.\u001b[39m_unity_client \u001b[39m=\u001b[39m UnityClient(unity_executable\u001b[39m=\u001b[39;49mapp_path,\n\u001b[1;32m     55\u001b[0m                                  port\u001b[39m=\u001b[39;49mkwargs\u001b[39m.\u001b[39;49mget(\u001b[39m\"\u001b[39;49m\u001b[39mport\u001b[39;49m\u001b[39m\"\u001b[39;49m, \u001b[39mNone\u001b[39;49;00m),\n\u001b[1;32m     56\u001b[0m                                  standalone\u001b[39m=\u001b[39;49mkwargs\u001b[39m.\u001b[39;49mget(\u001b[39m\"\u001b[39;49m\u001b[39mstandalone\u001b[39;49m\u001b[39m\"\u001b[39;49m, \u001b[39mTrue\u001b[39;49;00m),\n\u001b[1;32m     57\u001b[0m                                  app_args\u001b[39m=\u001b[39;49mkwargs\u001b[39m.\u001b[39;49mget(\u001b[39m\"\u001b[39;49m\u001b[39mapp_args\u001b[39;49m\u001b[39m\"\u001b[39;49m, []))\n\u001b[1;32m     59\u001b[0m \u001b[39m# Wait until app is up and running. Send time options to unity app\u001b[39;00m\n\u001b[1;32m     60\u001b[0m time_options \u001b[39m=\u001b[39m {\u001b[39m\"\u001b[39m\u001b[39mtimestep\u001b[39m\u001b[39m\"\u001b[39m: model\u001b[39m.\u001b[39mopt\u001b[39m.\u001b[39mtimestep, \u001b[39m\"\u001b[39m\u001b[39msampleFrequency\u001b[39m\u001b[39m\"\u001b[39m: kwargs[\u001b[39m\"\u001b[39m\u001b[39maction_sample_freq\u001b[39m\u001b[39m\"\u001b[39m],\n\u001b[1;32m     61\u001b[0m                 \u001b[39m\"\u001b[39m\u001b[39mtimeScale\u001b[39m\u001b[39m\"\u001b[39m: kwargs[\u001b[39m\"\u001b[39m\u001b[39mtime_scale\u001b[39m\u001b[39m\"\u001b[39m]}\n",
      "File \u001b[0;32m~/uitb-sim2vr/user-in-the-box-private/uitb/utils/unity.py:42\u001b[0m, in \u001b[0;36mUnityClient.__init__\u001b[0;34m(self, unity_executable, port, standalone, app_args)\u001b[0m\n\u001b[1;32m     39\u001b[0m   os\u001b[39m.\u001b[39mmakedirs(log_path, exist_ok\u001b[39m=\u001b[39m\u001b[39mTrue\u001b[39;00m)\n\u001b[1;32m     41\u001b[0m   \u001b[39m# Open the app\u001b[39;00m\n\u001b[0;32m---> 42\u001b[0m   \u001b[39mself\u001b[39m\u001b[39m.\u001b[39m_app \u001b[39m=\u001b[39m subprocess\u001b[39m.\u001b[39;49mPopen([unity_executable,\n\u001b[1;32m     43\u001b[0m                                 \u001b[39m'\u001b[39;49m\u001b[39m-simulated\u001b[39;49m\u001b[39m'\u001b[39;49m,\n\u001b[1;32m     44\u001b[0m                                 \u001b[39m'\u001b[39;49m\u001b[39m-port\u001b[39;49m\u001b[39m'\u001b[39;49m, \u001b[39mf\u001b[39;49m\u001b[39m'\u001b[39;49m\u001b[39m{\u001b[39;49;00mport\u001b[39m}\u001b[39;49;00m\u001b[39m'\u001b[39;49m,\n\u001b[1;32m     45\u001b[0m                                 \u001b[39m'\u001b[39;49m\u001b[39m-logFile\u001b[39;49m\u001b[39m'\u001b[39;49m, \u001b[39mf\u001b[39;49m\u001b[39m'\u001b[39;49m\u001b[39m{\u001b[39;49;00mos\u001b[39m.\u001b[39;49mpath\u001b[39m.\u001b[39;49mjoin(log_path,\u001b[39m \u001b[39;49mlog_name)\u001b[39m}\u001b[39;49;00m\u001b[39m'\u001b[39;49m] \u001b[39m+\u001b[39;49m app_args, env\u001b[39m=\u001b[39;49menv_with_display)\n\u001b[1;32m     47\u001b[0m \u001b[39m# Create zmq client\u001b[39;00m\n\u001b[1;32m     48\u001b[0m \u001b[39mself\u001b[39m\u001b[39m.\u001b[39m_context \u001b[39m=\u001b[39m zmq\u001b[39m.\u001b[39mContext()\n",
      "File \u001b[0;32m/opt/conda/envs/uitb_gymnasium/lib/python3.11/subprocess.py:1024\u001b[0m, in \u001b[0;36mPopen.__init__\u001b[0;34m(self, args, bufsize, executable, stdin, stdout, stderr, preexec_fn, close_fds, shell, cwd, env, universal_newlines, startupinfo, creationflags, restore_signals, start_new_session, pass_fds, user, group, extra_groups, encoding, errors, text, umask, pipesize, process_group)\u001b[0m\n\u001b[1;32m   1020\u001b[0m         \u001b[39mif\u001b[39;00m \u001b[39mself\u001b[39m\u001b[39m.\u001b[39mtext_mode:\n\u001b[1;32m   1021\u001b[0m             \u001b[39mself\u001b[39m\u001b[39m.\u001b[39mstderr \u001b[39m=\u001b[39m io\u001b[39m.\u001b[39mTextIOWrapper(\u001b[39mself\u001b[39m\u001b[39m.\u001b[39mstderr,\n\u001b[1;32m   1022\u001b[0m                     encoding\u001b[39m=\u001b[39mencoding, errors\u001b[39m=\u001b[39merrors)\n\u001b[0;32m-> 1024\u001b[0m     \u001b[39mself\u001b[39;49m\u001b[39m.\u001b[39;49m_execute_child(args, executable, preexec_fn, close_fds,\n\u001b[1;32m   1025\u001b[0m                         pass_fds, cwd, env,\n\u001b[1;32m   1026\u001b[0m                         startupinfo, creationflags, shell,\n\u001b[1;32m   1027\u001b[0m                         p2cread, p2cwrite,\n\u001b[1;32m   1028\u001b[0m                         c2pread, c2pwrite,\n\u001b[1;32m   1029\u001b[0m                         errread, errwrite,\n\u001b[1;32m   1030\u001b[0m                         restore_signals,\n\u001b[1;32m   1031\u001b[0m                         gid, gids, uid, umask,\n\u001b[1;32m   1032\u001b[0m                         start_new_session, process_group)\n\u001b[1;32m   1033\u001b[0m \u001b[39mexcept\u001b[39;00m:\n\u001b[1;32m   1034\u001b[0m     \u001b[39m# Cleanup if the child failed starting.\u001b[39;00m\n\u001b[1;32m   1035\u001b[0m     \u001b[39mfor\u001b[39;00m f \u001b[39min\u001b[39;00m \u001b[39mfilter\u001b[39m(\u001b[39mNone\u001b[39;00m, (\u001b[39mself\u001b[39m\u001b[39m.\u001b[39mstdin, \u001b[39mself\u001b[39m\u001b[39m.\u001b[39mstdout, \u001b[39mself\u001b[39m\u001b[39m.\u001b[39mstderr)):\n",
      "File \u001b[0;32m/opt/conda/envs/uitb_gymnasium/lib/python3.11/subprocess.py:1917\u001b[0m, in \u001b[0;36mPopen._execute_child\u001b[0;34m(self, args, executable, preexec_fn, close_fds, pass_fds, cwd, env, startupinfo, creationflags, shell, p2cread, p2cwrite, c2pread, c2pwrite, errread, errwrite, restore_signals, gid, gids, uid, umask, start_new_session, process_group)\u001b[0m\n\u001b[1;32m   1915\u001b[0m     \u001b[39mif\u001b[39;00m errno_num \u001b[39m!=\u001b[39m \u001b[39m0\u001b[39m:\n\u001b[1;32m   1916\u001b[0m         err_msg \u001b[39m=\u001b[39m os\u001b[39m.\u001b[39mstrerror(errno_num)\n\u001b[0;32m-> 1917\u001b[0m     \u001b[39mraise\u001b[39;00m child_exception_type(errno_num, err_msg, err_filename)\n\u001b[1;32m   1918\u001b[0m \u001b[39mraise\u001b[39;00m child_exception_type(err_msg)\n",
      "\u001b[0;31mFileNotFoundError\u001b[0m: [Errno 2] No such file or directory: '/home/florian/uitb-sim2vr/user-in-the-box-private/uitb/tasks/unity/build/build.x86_64'"
     ]
    }
   ],
   "source": [
    "# if not \"env\" in locals():\n",
    "#     env = uitb.Simulator.get(\"/home/florian/uitb-sim2vr/user-in-the-box-private/trained/unity_hard_pretrained\", run_parameters={\"action_sample_freq\": 20, \"evaluate\": True}, render_mode=\"rgb_array_list\", render_show_depths=False, use_cloned=True)\n",
    "# env = uitb.Simulator.get(\"/home/florian/uitb-sim2vr/user-in-the-box-private/trained/unity_hard_pretrained\", run_parameters={\"action_sample_freq\": 20, \"evaluate\": True}, render_mode=\"rgb_array_list\", render_show_depths=False, use_cloned=True)\n",
    "# env = uitb.Simulator.get(\"/home/florian/uitb-sim2vr/user-in-the-box-private/trained/unity_low_pretrained\", run_parameters={\"action_sample_freq\": 20, \"evaluate\": True}, use_cloned=True)\n",
    "# simulator_dir = \"/home/florian/uitb-sim2vr/user-in-the-box-private/trained/unity_easy\"\n",
    "# simulator_dir = \"/home/florian/uitb-sim2vr/user-in-the-box-private/simulators/unity_difficulty_easy_cumulativefatigue_v2\"\n",
    "# simulator_dir = \"/home/florian/uitb-sim2vr/user-in-the-box-private/simulators/test_unity_difficulty_easy_3ccr\"\n",
    "# simulator_dir = \"/home/florian/uitb-sim2vr/user-in-the-box-private/simulators/unity_high_difficulty_easy_3ccr\"\n",
    "simulator_dir = \"/home/florian/uitb-sim2vr/user-in-the-box-private/simulators/unity_difficulty_easy\"\n",
    "\n",
    "env = uitb.Simulator.get(simulator_dir, run_parameters={\"action_sample_freq\": 20, \"evaluate\": True}, use_cloned=False)\n",
    "\n",
    "# ## TEST with different effort model:\n",
    "# from uitb.bm_models.effort_models import CumulativeFatigue3CCr, ConsumedEndurance\n",
    "# env.bm_model._effort_model = CumulativeFatigue3CCr(env.bm_model, dt=env._run_parameters[\"dt\"])  #env.bm_model.get_effort_model({\"cls\": \"CumulativeFatigue3CCr\"}, dt=env._run_parameters[\"dt\"])\n",
    "log_variables = {\n",
    "                # \"3CCr_MA\": (\"bm_model\", \"_effort_model\", \"_MA\"), \n",
    "                # \"3CCr_MR\": (\"bm_model\", \"_effort_model\", \"_MR\"),\n",
    "                # \"3CCr_MF\": (\"bm_model\", \"_effort_model\", \"_MF\"),\n",
    "                # \"effort_cost\": (\"bm_model\", \"_effort_model\", \"_effort_cost\")\n",
    "                }\n",
    "\n",
    "USE_POLICY = False\n",
    "\n",
    "# Number of steps you run the agent for \n",
    "num_steps = 50#00\n",
    "\n",
    "#############################################################\n",
    "\n",
    "\n",
    "# Reset with some seed for debugging purposes\n",
    "# obs = env.reset()\n",
    "obs, info = env.reset()\n",
    "\n",
    "# Create instance for variables that should be additionally logged\n",
    "eval_logs = EvaluationLogs(env, log_variables)\n",
    "\n",
    "# Create empty list which all frames of the forward simulation will be appended to\n",
    "frame_collection = []\n",
    "\n",
    "# Create list which all rewards of the forward simulation will be appended to\n",
    "reward_collection = [np.nan]  #no reward available at initial state\n",
    "\n",
    "obs_collection = [obs]\n",
    "info_collection = []\n",
    "\n",
    "if USE_POLICY:\n",
    "    _checkpoint_dir = f\"{simulator_dir}/checkpoints\"  #checkpoints_20230508_175546\n",
    "    # _policy = PPO.load(os.path.join(_checkpoint_dir, \"model_100000000_steps\"))\n",
    "    _policy = PPO.load(os.path.join(_checkpoint_dir, natural_sort(os.listdir(_checkpoint_dir))[-1]))  #use latest policy\n",
    "else:\n",
    "    _policy = None\n",
    "\n",
    "for step in range(num_steps):\n",
    "    if _policy is not None:\n",
    "        # get actions from policy\n",
    "        action, _internal_policy_state = _policy.predict(obs, deterministic=True)\n",
    "    else:\n",
    "        # choose random action from action space\n",
    "        action = env.action_space.sample()    \n",
    "    \n",
    "    # apply the action\n",
    "    # obs, reward, done, info = env.step(action)\n",
    "    obs, reward, terminated, truncated, info = env.step(action)\n",
    "    \n",
    "    # store received reward\n",
    "    reward_collection.append(reward)\n",
    "    \n",
    "    obs_collection.append(obs)\n",
    "    info_collection.append(info)\n",
    "    \n",
    "    # log additional variables\n",
    "    eval_logs.log()\n",
    "    \n",
    "    # If the epsiode is up, then stop\n",
    "    # if done:\n",
    "    if terminated or truncated:\n",
    "        # frame_collection.extend(env.render()) #with render_mode=\"rgb_array_list\", env.render() returns a list of all frames since last call of reset()\n",
    "        break\n",
    "\n",
    "# Close the env\n",
    "env.close()\n",
    "\n",
    "# Also store remaining frames of unfinished last episode\n",
    "# frame_collection.extend(env.render())\n",
    "\n",
    "# Show all simulated frames\n",
    "# display_video(frame_collection, framerate=env.fps)\n",
    "#display_video_with_rewards(frame_collection, reward_collection, framerate=env.fps)"
   ]
  },
  {
   "cell_type": "code",
   "execution_count": null,
   "id": "35552398-15fc-44e2-a157-c4d5533fcb49",
   "metadata": {},
   "outputs": [],
   "source": [
    "eval_logs.get_logs(\"effort_cost\")"
   ]
  },
  {
   "cell_type": "code",
   "execution_count": null,
   "id": "34bcd019-1c43-4dfa-a3e0-0a43b5bb5e80",
   "metadata": {},
   "outputs": [],
   "source": [
    "lifting_muscles = [\"DELT1\", \"DELT2\", \"DELT3\", \"SUPSP\", \"INFSP\", \"SUBSC\", \"TMIN\", \"BIClong\", \"BICshort\", \"TRIlong\", \"TRIlat\", \"TRImed\"]  #muscles of the mobl_arms_wrist that act on the shoulder\n",
    "lifting_indices = [env._model.actuator(_i).id for _i in lifting_muscles]\n",
    "\n",
    "_logdata = eval_logs.get_logs(\"3CCr_MF\", indices=lifting_indices)\n",
    "\n",
    "plt.plot(_logdata.keys(), _logdata.values(), label=lifting_muscles)\n",
    "plt.legend()"
   ]
  },
  {
   "cell_type": "code",
   "execution_count": null,
   "id": "188eaf7b-48f3-4303-995e-929287c04420",
   "metadata": {},
   "outputs": [],
   "source": [
    "lifting_muscles = [\"DELT1\", \"DELT2\", \"DELT3\", \"SUPSP\", \"INFSP\", \"SUBSC\", \"TMIN\", \"BIClong\", \"BICshort\", \"TRIlong\", \"TRIlat\", \"TRImed\"]  #muscles of the mobl_arms_wrist that act on the shoulder\n",
    "lifting_indices = [env._model.actuator(_i).id for _i in lifting_muscles]\n",
    "\n",
    "_logdata = eval_logs.get_logs(\"3CCr_MA\", indices=lifting_indices)\n",
    "\n",
    "plt.plot(_logdata.keys(), _logdata.values(), label=lifting_muscles)\n",
    "plt.legend()"
   ]
  },
  {
   "cell_type": "code",
   "execution_count": null,
   "id": "489359de-4440-46e8-8178-fd86b8675a70",
   "metadata": {},
   "outputs": [],
   "source": [
    "#display_video([(np.concatenate((np.moveaxis(i[\"vision\"], 0, 2), 0*np.ones((80, 120, 1))), axis=-1)[..., [0, 2, 1]]/2 + 0.5) for i in obs_collection], framerate=100)\n",
    "display_video([i[\"unity_image\"] for i in info_collection], framerate=100)\n"
   ]
  },
  {
   "attachments": {},
   "cell_type": "markdown",
   "id": "e0b23bfc-cd0a-4aba-8163-478ecb744088",
   "metadata": {},
   "source": [
    "## Run Evaluations"
   ]
  },
  {
   "cell_type": "code",
   "execution_count": 13,
   "id": "512d29f0",
   "metadata": {},
   "outputs": [
    {
     "name": "stdout",
     "output_type": "stream",
     "text": [
      "\n",
      "\n",
      "TASK CONDITION: simulators/unity_high_difficulty_easy_3ccr_1e2_v110\n",
      "\n",
      "Attempting to connect to Unity app on port 44419\n",
      "[UnityMemory] Configuration Parameters - Can be set up in boot.config\n",
      "    \"memorysetup-bucket-allocator-granularity=16\"\n",
      "    \"memorysetup-bucket-allocator-bucket-count=8\"\n",
      "    \"memorysetup-bucket-allocator-block-size=4194304\"\n",
      "    \"memorysetup-bucket-allocator-block-count=1\"\n",
      "    \"memorysetup-main-allocator-block-size=16777216\"\n",
      "    \"memorysetup-thread-allocator-block-size=16777216\"\n",
      "    \"memorysetup-gfx-main-allocator-block-size=16777216\"\n",
      "    \"memorysetup-gfx-thread-allocator-block-size=16777216\"\n",
      "    \"memorysetup-cache-allocator-block-size=4194304\"\n",
      "    \"memorysetup-typetree-allocator-block-size=2097152\"\n",
      "    \"memorysetup-profiler-bucket-allocator-granularity=16\"\n",
      "    \"memorysetup-profiler-bucket-allocator-bucket-count=8\"\n",
      "    \"memorysetup-profiler-bucket-allocator-block-size=4194304\"\n",
      "    \"memorysetup-profiler-bucket-allocator-block-count=1\"\n",
      "    \"memorysetup-profiler-allocator-block-size=16777216\"\n",
      "    \"memorysetup-profiler-editor-allocator-block-size=1048576\"\n",
      "    \"memorysetup-temp-allocator-size-main=4194304\"\n",
      "    \"memorysetup-job-temp-allocator-block-size=2097152\"\n",
      "    \"memorysetup-job-temp-allocator-block-size-background=1048576\"\n",
      "    \"memorysetup-job-temp-allocator-reduction-small-platforms=262144\"\n",
      "    \"memorysetup-temp-allocator-size-background-worker=32768\"\n",
      "    \"memorysetup-temp-allocator-size-job-worker=262144\"\n",
      "    \"memorysetup-temp-allocator-size-preload-manager=262144\"\n",
      "    \"memorysetup-temp-allocator-size-nav-mesh-worker=65536\"\n",
      "    \"memorysetup-temp-allocator-size-audio-worker=65536\"\n",
      "    \"memorysetup-temp-allocator-size-cloud-worker=32768\"\n",
      "    \"memorysetup-temp-allocator-size-gfx=262144\"\n",
      "Connection confirmed\n",
      "run parameters are: {'frame_skip': 25, 'unity_record_gameplay': False, 'unity_output_folder': 'simulators/unity_high_difficulty_easy_3ccr_1e2_v110/evaluate', 'unity_logging': True, 'evaluate': True, 'dt': 0.05, 'action_sample_freq': 20, 'rendering_context': <unity_high_difficulty_easy_3ccr_1e2_v110.utils.rendering.Context object at 0x7f8efe8663d0>}\n",
      "Loading model: simulators/unity_high_difficulty_easy_3ccr_1e2_v110/checkpoints/model_80000000_steps.zip\n",
      "\n",
      "Run episode 1/1.\n",
      "Log files have been saved files simulators/unity_high_difficulty_easy_3ccr_1e2_v110/evaluate/state_log.pickle and simulators/unity_high_difficulty_easy_3ccr_1e2_v110/evaluate/action_log.pickle\n",
      "A recording has been saved to file simulators/unity_high_difficulty_easy_3ccr_1e2_v110/evaluate/evaluate.mp4\n",
      "NEW [821102]: /home/florian/uitb-sim2vr/user-in-the-box-private/simulators/unity_high_difficulty_easy_3ccr_1e2_v110/evaluate/logging/2023-07-05/1688539321/08-42-01-high-easy successfully registered at '~/uitb-sim2vr/user-in-the-box-private/datasets/vr-uitb-experiment/821102/'.\n"
     ]
    },
    {
     "ename": "",
     "evalue": "",
     "output_type": "error",
     "traceback": [
      "\u001b[1;31mThe Kernel crashed while executing code in the the current cell or a previous cell. Please review the code in the cell(s) to identify a possible cause of the failure. Click <a href='https://aka.ms/vscodeJupyterKernelCrash'>here</a> for more info. View Jupyter <a href='command:jupyter.viewOutput'>log</a> for further details."
     ]
    }
   ],
   "source": [
    "## EVALUATE LIST OF SIMULATION DIRS\n",
    "\n",
    "import uitb\n",
    "os.chdir(uitb.__path__[0])\n",
    "os.chdir(\"..\")\n",
    "\n",
    "SIMULATION_DIRS = [\n",
    "    # \"simulators/unity_low_difficulty_easy_3ccr_1e3\",  #low-easy\n",
    "    # \"simulators/unity_difficulty_easy_3ccr_1e3\",  #mid-easy\n",
    "    # \"simulators/unity_high_difficulty_easy_3ccr_1e3\",  #high-easy\n",
    "    # \"simulators/unity_low_difficulty_easy_ce\",  #low-easy\n",
    "    # \"simulators/unity_difficulty_easy_ce\",  #mid-easy\n",
    "    # \"simulators/unity_high_difficulty_easy_ce\",  #high-easy\n",
    "    # \"trained/unity_easy/\",\n",
    "    # \"trained/unity_medium_pretrained/\",\n",
    "    # \"trained/unity_hard_pretrained/\",\n",
    "    # \"trained/unity_low_pretrained/\",\n",
    "    # \"trained/unity_medium_pretrained/\",  #mid-medium\n",
    "    # \"trained/unity_high_pretrained/\",\n",
    "    \"simulators/unity_high_difficulty_easy_3ccr_1e2_v110\",  #high-easy\n",
    "    # \"simulators/unity_difficulty_easy_3ccr_1e2_v110\",  #mid-easy\n",
    "    # \"simulators/unity_low_difficulty_easy_3ccr_1e2_v110\",  #low-easy\n",
    "    ]\n",
    "\n",
    "#_SIMULATION_USER_ID = 204  #fake simulation user ID used for testing\n",
    "for _SIMULATION_USER_ID in [821102]:  #range(207, 213):\n",
    "    for _TASK_CONDITION in SIMULATION_DIRS:\n",
    "        print(f\"\\n\\nTASK CONDITION: {_TASK_CONDITION}\\n\")\n",
    "        os.environ[\"_TASK_CONDITION\"] = _TASK_CONDITION\n",
    "\n",
    "        # %run uitb/test/evaluator_OLD.py $_TASK_CONDITION --num_episodes 1 --logging\n",
    "        %run uitb/test/evaluator.py $_TASK_CONDITION --num_episodes 1 --record --logging\n",
    "\n",
    "        _copy_to_dataset(TASK_CONDITION=_TASK_CONDITION, SIMULATION_USER_ID=_SIMULATION_USER_ID, record=True, logging=True)"
   ]
  },
  {
   "cell_type": "code",
   "execution_count": 11,
   "id": "fcd99afe-06d2-4818-9694-d5ce3c79e774",
   "metadata": {},
   "outputs": [
    {
     "name": "stdout",
     "output_type": "stream",
     "text": [
      "Attempting to connect to Unity app\n",
      "[UnityMemory] Configuration Parameters - Can be set up in boot.config\n",
      "    \"memorysetup-bucket-allocator-granularity=16\"\n",
      "    \"memorysetup-bucket-allocator-bucket-count=8\"\n",
      "    \"memorysetup-bucket-allocator-block-size=4194304\"\n",
      "    \"memorysetup-bucket-allocator-block-count=1\"\n",
      "    \"memorysetup-main-allocator-block-size=16777216\"\n",
      "    \"memorysetup-thread-allocator-block-size=16777216\"\n",
      "    \"memorysetup-gfx-main-allocator-block-size=16777216\"\n",
      "    \"memorysetup-gfx-thread-allocator-block-size=16777216\"\n",
      "    \"memorysetup-cache-allocator-block-size=4194304\"\n",
      "    \"memorysetup-typetree-allocator-block-size=2097152\"\n",
      "    \"memorysetup-profiler-bucket-allocator-granularity=16\"\n",
      "    \"memorysetup-profiler-bucket-allocator-bucket-count=8\"\n",
      "    \"memorysetup-profiler-bucket-allocator-block-size=4194304\"\n",
      "    \"memorysetup-profiler-bucket-allocator-block-count=1\"\n",
      "    \"memorysetup-profiler-allocator-block-size=16777216\"\n",
      "    \"memorysetup-profiler-editor-allocator-block-size=1048576\"\n",
      "    \"memorysetup-temp-allocator-size-main=4194304\"\n",
      "    \"memorysetup-job-temp-allocator-block-size=2097152\"\n",
      "    \"memorysetup-job-temp-allocator-block-size-background=1048576\"\n",
      "    \"memorysetup-job-temp-allocator-reduction-small-platforms=262144\"\n",
      "    \"memorysetup-temp-allocator-size-background-worker=32768\"\n",
      "    \"memorysetup-temp-allocator-size-job-worker=262144\"\n",
      "    \"memorysetup-temp-allocator-size-preload-manager=262144\"\n",
      "    \"memorysetup-temp-allocator-size-nav-mesh-worker=65536\"\n",
      "    \"memorysetup-temp-allocator-size-audio-worker=65536\"\n",
      "    \"memorysetup-temp-allocator-size-cloud-worker=32768\"\n",
      "    \"memorysetup-temp-allocator-size-gfx=262144\"\n",
      "Connection confirmed\n",
      "run parameters are: {'frame_skip': 25, 'evaluate': True, 'dt': 0.05, 'unity_record_gameplay': False, 'action_sample_freq': 20, 'unity_output_folder': 'simulators/unity_high_difficulty_easy_3ccr_1e5/evaluate', 'unity_logging': True, 'rendering_context': <uitb.utils.rendering.Context object at 0x7f7baad82e10>}\n",
      "Loading model: simulators/unity_high_difficulty_easy_3ccr_1e5/checkpoints/model_30000000_steps.zip\n",
      "\n",
      "Run episode 1/1.\n",
      "Log files have been saved files simulators/unity_high_difficulty_easy_3ccr_1e5/evaluate/state_log.pickle and simulators/unity_high_difficulty_easy_3ccr_1e5/evaluate/action_log.pickle\n",
      "A recording has been saved to file simulators/unity_high_difficulty_easy_3ccr_1e5/evaluate/evaluate.mp4\n"
     ]
    }
   ],
   "source": [
    "import uitb\n",
    "os.chdir(uitb.__path__[0])\n",
    "os.chdir(\"..\")\n",
    "\n",
    "_TASK_CONDITION = \"trained/unity_high_pretrained\"  #OPTIONS: \"trained/unity_easy\", \"trained/unity_medium_pretrained\", \"trained/unity_hard_pretrained\", \"trained/unity_low_pretrained\", \"trained/unity_high_pretrained\"\n",
    "_TASK_CONDITION = \"simulators/test_unity_difficulty_easy_3ccr\"\n",
    "\n",
    "_TASK_CONDITION = \"simulators/unity_high_difficulty_easy_3ccr_1e5\"\n",
    "\n",
    "os.environ[\"_TASK_CONDITION\"] = _TASK_CONDITION\n",
    "%run uitb/test/evaluator.py $_TASK_CONDITION --num_episodes 1 --record --logging\n",
    "# %run uitb/test/evaluator.py $_TASK_CONDITION --num_episodes 10 --logging"
   ]
  },
  {
   "attachments": {},
   "cell_type": "markdown",
   "id": "9993d867-d33d-4800-a00e-63bbaa5fe985",
   "metadata": {},
   "source": [
    "Copy evaluation logs (including pickle files) to dataset directory"
   ]
  },
  {
   "cell_type": "code",
   "execution_count": null,
   "id": "7d108d6d-1db9-481f-b880-b40e2a13fbe3",
   "metadata": {},
   "outputs": [],
   "source": [
    "_SIMULATION_USER_ID = 91  #fake simulation user ID used for testing\n",
    "_copy_to_dataset(TASK_CONDITION=_TASK_CONDITION, SIMULATION_USER_ID=_SIMULATION_USER_ID)"
   ]
  },
  {
   "cell_type": "code",
   "execution_count": null,
   "id": "7545f1e8-6f1d-4f00-8656-3896339173c8",
   "metadata": {},
   "outputs": [],
   "source": [
    "_rng = np.random.default_rng()\n",
    "strength = _rng.uniform(0, 1, size=32)"
   ]
  },
  {
   "cell_type": "code",
   "execution_count": null,
   "id": "bc9a6e5c-6b2f-4091-9d58-d4cf00e84e88",
   "metadata": {},
   "outputs": [],
   "source": [
    "# if strength > 0.15:\n",
    "#     endurance = (1236.5/((strength*100 - 15)**0.618)) - 72.5\n",
    "# else:\n",
    "#     endurance = np.inf\n",
    "endurance = np.inf * np.ones_like(strength)\n",
    "endurance[strength > 0.15] = (1236.5/((strength[strength > 0.15]*100 - 15)**0.618)) - 72.5\n",
    "0.02/np.min(endurance)*100, 0.02/endurance*100\n",
    "\n",
    "np.mean(endurance[endurance<np.inf]), (1236.5/((np.mean(strength)*100 - 15)**0.618)) - 72.5"
   ]
  },
  {
   "attachments": {},
   "cell_type": "markdown",
   "id": "7ba9120b-4a8c-4c5b-bdc2-451f0deadf23",
   "metadata": {},
   "source": [
    "**NOTES on simulation user IDs:**\n",
    "- 99: testing\n",
    "- 91: Aleksi's trained models evaluated with 3CCr costs\n",
    "- 92: Aleksi's trained models evaluated with CE costs\n",
    "- 901: trained with 3CCr costs (cost weight: 1e-3)\n",
    "- 902: trained with CE costs"
   ]
  },
  {
   "attachments": {},
   "cell_type": "markdown",
   "id": "d3559b9a-e378-4111-bb87-a3724f93a8a1",
   "metadata": {},
   "source": [
    "**Evaluate fatigue/effort metrics for different conditions.**"
   ]
  },
  {
   "cell_type": "code",
   "execution_count": null,
   "id": "d7462318-39f4-478a-a918-21c47308d0df",
   "metadata": {},
   "outputs": [],
   "source": [
    "lifting_muscles = [\"DELT1\", \"DELT2\", \"DELT3\", \"SUPSP\", \"INFSP\", \"SUBSC\", \"TMIN\", \"BIClong\", \"BICshort\", \"TRIlong\", \"TRIlat\", \"TRImed\"]  #muscles of the mobl_arms_wrist that act on the shoulder\n",
    "lifting_indices = [0, 1, 2, 3, 4, 5, 6, 20, 21, 15, 16, 17]  #[env._model.actuator(_i).id for _i in lifting_muscles]"
   ]
  },
  {
   "cell_type": "code",
   "execution_count": null,
   "id": "02093f58-4715-4126-b5b2-b504aff15da3",
   "metadata": {},
   "outputs": [],
   "source": [
    "_test = np.load(\"/home/florian/uitb-sim2vr/user-in-the-box-private/datasets/vr-uitb-experiment/91/09-22-59-low/state_log.pickle\", allow_pickle=True)\n",
    "np.mean([np.mean(i[\"effort_cost\"][1:]) for i in _test.values()])\n",
    "np.mean([np.mean(list(map(np.mean, i[\"3CCr_MF\"]))) for i in _test.values()])\n",
    "np.mean([np.mean(list(map(lambda x: np.mean(x[lifting_indices]), i[\"3CCr_MF\"]))) for i in _test.values()])"
   ]
  },
  {
   "cell_type": "code",
   "execution_count": null,
   "id": "578dce42-4830-4af9-9dc6-9e8bd0e16024",
   "metadata": {},
   "outputs": [],
   "source": [
    "_test = np.load(\"/home/florian/uitb-sim2vr/user-in-the-box-private/datasets/vr-uitb-experiment/91/09-25-50-mid/state_log.pickle\", allow_pickle=True)\n",
    "_test[\"episode_00\"][\"effort_cost\"]\n",
    "np.mean([np.mean(i[\"effort_cost\"][1:]) for i in _test.values()])\n",
    "np.mean([np.mean(list(map(np.mean, i[\"3CCr_MF\"]))) for i in _test.values()])\n",
    "np.mean([np.mean(list(map(lambda x: np.mean(x[lifting_indices]), i[\"3CCr_MF\"]))) for i in _test.values()])"
   ]
  },
  {
   "cell_type": "code",
   "execution_count": null,
   "id": "84da1161-b617-4ee0-9335-45943e2e4af9",
   "metadata": {},
   "outputs": [],
   "source": [
    "_test = np.load(\"/home/florian/uitb-sim2vr/user-in-the-box-private/datasets/vr-uitb-experiment/91/09-29-58-high/state_log.pickle\", allow_pickle=True)\n",
    "_test[\"episode_00\"][\"effort_cost\"]\n",
    "np.mean([np.mean(i[\"effort_cost\"][1:]) for i in _test.values()])\n",
    "np.mean([np.mean(list(map(np.mean, i[\"3CCr_MF\"]))) for i in _test.values()])\n",
    "np.mean([np.mean(list(map(lambda x: np.mean(x[lifting_indices]), i[\"3CCr_MF\"]))) for i in _test.values()])"
   ]
  },
  {
   "attachments": {},
   "cell_type": "markdown",
   "id": "6d8f5abc-4351-47f0-acd7-41b33ba215f9",
   "metadata": {},
   "source": [
    "## Run Training"
   ]
  },
  {
   "attachments": {},
   "cell_type": "markdown",
   "id": "01404410-a184-4863-acea-186e20c09588",
   "metadata": {},
   "source": [
    "Run from command line with X11 (e.g., using MobaXterm):\n",
    "```python\n",
    "export DISPLAY=:1\n",
    "python uitb/train/trainer.py uitb/configs/mobl_arms_unity_test1.yaml\n",
    "```"
   ]
  },
  {
   "attachments": {},
   "cell_type": "markdown",
   "id": "644a3245-eb82-4106-8c5d-da52074e45fd",
   "metadata": {},
   "source": [
    "## Utils"
   ]
  },
  {
   "attachments": {},
   "cell_type": "markdown",
   "id": "83a9b942-2b9b-4aeb-9385-c87517d88376",
   "metadata": {},
   "source": [
    "Copy build files (i.e., a standalone Unity app for each task condition/target setup) to source dir."
   ]
  },
  {
   "cell_type": "code",
   "execution_count": null,
   "id": "a936d4df-e324-452b-b3f5-278c7d61358e",
   "metadata": {},
   "outputs": [],
   "source": [
    "for _cond in [\"unity_easy\", \"unity_medium_pretrained\", \"unity_hard_pretrained\", \"unity_low_pretrained\", \"unity_high_pretrained\"]:\n",
    "    os.popen(f\"mkdir ~/uitb-sim2vr/user-in-the-box-private/uitb/tasks/unity/build/{_cond.split('_')[1]}\")\n",
    "    os.popen(f\"cp ~/uitb-sim2vr/user-in-the-box-private/trained/{_cond}/{_cond}/tasks/unity/build/build.x86_64 ~/uitb-sim2vr/user-in-the-box-private/uitb/tasks/unity/build/{_cond.split('_')[1]}/build.x86_64\")\n",
    "    os.popen(f\"cp ~/uitb-sim2vr/user-in-the-box-private/trained/{_cond}/{_cond}/tasks/unity/build/UnityPlayer.so ~/uitb-sim2vr/user-in-the-box-private/uitb/tasks/unity/build/{_cond.split('_')[1]}/UnityPlayer.so\")\n",
    "    os.popen(f\"cp ~/uitb-sim2vr/user-in-the-box-private/trained/{_cond}/{_cond}/tasks/unity/build/build_Data ~/uitb-sim2vr/user-in-the-box-private/uitb/tasks/unity/build/{_cond.split('_')[1]}/ -r\")"
   ]
  }
 ],
 "metadata": {
  "kernelspec": {
   "display_name": "UITB (Gymnasium)",
   "language": "python",
   "name": "uitb_gymnasium"
  },
  "language_info": {
   "codemirror_mode": {
    "name": "ipython",
    "version": 3
   },
   "file_extension": ".py",
   "mimetype": "text/x-python",
   "name": "python",
   "nbconvert_exporter": "python",
   "pygments_lexer": "ipython3",
   "version": "3.11.3"
  },
  "scenes_data": {
   "active_scene": "Legacy Init",
   "init_scene": "Legacy Init",
   "scenes": [
    "Default Scene",
    "Legacy Init"
   ]
  }
 },
 "nbformat": 4,
 "nbformat_minor": 5
}
