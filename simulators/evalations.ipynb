{
 "cells": [
  {
   "cell_type": "code",
   "execution_count": 1,
   "id": "0e114905-f7c6-4342-86e9-f1440b16cc39",
   "metadata": {},
   "outputs": [
    {
     "name": "stdout",
     "output_type": "stream",
     "text": [
      "env: MUJOCO_GL=egl\n"
     ]
    }
   ],
   "source": [
    "%env MUJOCO_GL=egl"
   ]
  },
  {
   "cell_type": "code",
   "execution_count": 356,
   "id": "617914ba-8f50-42c2-b213-58d653045b0c",
   "metadata": {},
   "outputs": [],
   "source": [
    "import numpy as np\n",
    "import matplotlib.pyplot as plt\n",
    "import pandas as pd"
   ]
  },
  {
   "cell_type": "markdown",
   "id": "9f91e314-7e07-4cc8-b0f0-b92f901b84d8",
   "metadata": {},
   "source": [
    "# Pointing subgoal"
   ]
  },
  {
   "cell_type": "code",
   "execution_count": 441,
   "id": "6b4a3a33-165f-4cdb-bedb-b5be0c4de564",
   "metadata": {},
   "outputs": [
    {
     "data": {
      "text/plain": [
       "dict_keys(['episode_00', 'episode_01', 'episode_02', 'episode_03', 'episode_04', 'episode_05', 'episode_06', 'episode_07', 'episode_08', 'episode_09'])"
      ]
     },
     "execution_count": 441,
     "metadata": {},
     "output_type": "execute_result"
    }
   ],
   "source": [
    "state_log_pointing_subgoal = np.load(\"pointing_subgoals/state_log.pickle\", allow_pickle=True)\n",
    "state_log_pointing_subgoal.keys()"
   ]
  },
  {
   "cell_type": "code",
   "execution_count": 442,
   "id": "31dad028-8686-4f1f-9cb8-9579f1256637",
   "metadata": {},
   "outputs": [
    {
     "data": {
      "text/plain": [
       "dict_keys(['timestep', 'qpos', 'qvel', 'qacc', 'act', 'ctrl', 'steps', 'target_position', 'target_radius', 'trial_idx', 'targets_hit', 'target_hit', 'inside_target', 'target_spawned', 'terminated', 'truncated', 'termination', 'hand_2distph_xpos', 'hand_2distph_xmat'])"
      ]
     },
     "execution_count": 442,
     "metadata": {},
     "output_type": "execute_result"
    }
   ],
   "source": [
    "state_log_pointing_subgoal['episode_00'].keys()"
   ]
  },
  {
   "cell_type": "code",
   "execution_count": 455,
   "id": "267b9ef1-232b-4145-9595-47b7db5906a5",
   "metadata": {},
   "outputs": [
    {
     "name": "stdout",
     "output_type": "stream",
     "text": [
      "[110, 189, 273, 347, 433, 518, 596, 672, 751, 865]\n",
      "10\n",
      "1.03\n"
     ]
    }
   ],
   "source": [
    "\n",
    "trial_length =[]\n",
    "temp1 = 0\n",
    "target_distance = []\n",
    "dist = 0.0\n",
    "length = len(state_log_pointing_subgoal['episode_09']['trial_idx'])\n",
    "for x in range(length):\n",
    "    if state_log_pointing_subgoal['episode_09']['trial_idx'][x] != temp1:\n",
    "       \n",
    "        temp1+=1\n",
    "        trial_length.append(x-1)\n",
    "        \n",
    "print(trial_length)\n",
    "no_trials = len(trial_length)\n",
    "print(no_trials)\n",
    "\n",
    "for x in range(no_trials):\n",
    "    dist = np.linalg.norm((state_log_pointing_subgoal[\"episode_09\"][\"hand_2distph_xpos\"][x] - state_log_pointing_subgoal[\"episode_09\"][\"target_position\"][x]))\n",
    "    target_distance.append(dist)\n",
    "    \n",
    "print(round(np.mean(target_distance),2))\n",
    "    \n",
    "        \n",
    "    \n",
    "    "
   ]
  },
  {
   "cell_type": "code",
   "execution_count": 457,
   "id": "893ec469-fcd5-4ada-bec9-63a3aa534e9a",
   "metadata": {},
   "outputs": [],
   "source": [
    "epi_mean_target_hand_dist_subgoal = [0.89, 1.08, 0.7, 1.01, 1.04, 0.63, 0.74, 0.62, 0.63, 1.03]"
   ]
  },
  {
   "cell_type": "code",
   "execution_count": 458,
   "id": "e47aff9f-a595-4082-a848-9d7736f85a0f",
   "metadata": {},
   "outputs": [
    {
     "name": "stdout",
     "output_type": "stream",
     "text": [
      "[0.89, 1.08, 0.7, 1.01, 1.04, 0.63, 0.74, 0.62, 0.63, 1.03]\n"
     ]
    }
   ],
   "source": [
    "print(epi_mean_target_hand_dist_subgoal)"
   ]
  },
  {
   "cell_type": "markdown",
   "id": "6d8154ac-5381-408e-be86-138b6e6f507b",
   "metadata": {},
   "source": [
    "# Pointing frame skip"
   ]
  },
  {
   "cell_type": "code",
   "execution_count": 461,
   "id": "1013e01f-b119-4784-a702-c479736420f4",
   "metadata": {},
   "outputs": [],
   "source": [
    "state_log_poiting_frame_skip = np.load(\"pointing_frame_skip/state_log.pickle\", allow_pickle=True)"
   ]
  },
  {
   "cell_type": "code",
   "execution_count": 472,
   "id": "e1d8d5ea-c987-48d1-9493-7b5506190fd1",
   "metadata": {},
   "outputs": [
    {
     "name": "stdout",
     "output_type": "stream",
     "text": [
      "[19, 39, 59, 79, 99, 119, 139, 159, 179, 199]\n",
      "10\n",
      "0.52\n"
     ]
    }
   ],
   "source": [
    "\n",
    "trial_length =[]\n",
    "temp1 = 0\n",
    "target_distance = []\n",
    "dist = 0.0\n",
    "length = len(state_log_poiting_frame_skip['episode_09']['trial_idx'])\n",
    "for x in range(length):\n",
    "    if state_log_poiting_frame_skip['episode_09']['trial_idx'][x] != temp1:\n",
    "       \n",
    "        temp1+=1\n",
    "        trial_length.append(x-1)\n",
    "        \n",
    "print(trial_length)\n",
    "no_trials = len(trial_length)\n",
    "print(no_trials)\n",
    "\n",
    "for x in range(no_trials):\n",
    "    dist = np.linalg.norm((state_log_poiting_frame_skip[\"episode_09\"][\"hand_2distph_xpos\"][x] - state_log_poiting_frame_skip[\"episode_09\"][\"target_position\"][x]))\n",
    "    target_distance.append(dist)\n",
    "    \n",
    "print(round(np.mean(target_distance),2))\n",
    "    \n",
    "        \n",
    "    \n",
    "    "
   ]
  },
  {
   "cell_type": "code",
   "execution_count": 476,
   "id": "1909b61b-394d-4e7a-92a5-17be0040f9ef",
   "metadata": {},
   "outputs": [],
   "source": [
    "epi_mean_target_hand_dist_frameskip = [0.84, 0.72, 1.01, 0.79, 0.6, 0.86, 1.0, 0.87, 0.53, 0.52]"
   ]
  },
  {
   "cell_type": "code",
   "execution_count": 477,
   "id": "e6ed518a-53a5-45fc-8e47-b4ed1d4b2088",
   "metadata": {},
   "outputs": [
    {
     "name": "stdout",
     "output_type": "stream",
     "text": [
      "[0.84, 0.72, 1.01, 0.79, 0.6, 0.86, 1.0, 0.87, 0.53, 0.52]\n"
     ]
    }
   ],
   "source": [
    "print(epi_mean_target_hand_dist_frameskip)"
   ]
  },
  {
   "cell_type": "markdown",
   "id": "5e918489-969d-4694-a300-538292f0001c",
   "metadata": {},
   "source": [
    "# Pointing 1:1"
   ]
  },
  {
   "cell_type": "code",
   "execution_count": 478,
   "id": "732e4c74-fae3-4e56-9f2d-28045634fbd1",
   "metadata": {},
   "outputs": [],
   "source": [
    "state_log_pointing_1To1 = np.load(\"pointing_one_to_one/state_log.pickle\", allow_pickle=True)"
   ]
  },
  {
   "cell_type": "code",
   "execution_count": 488,
   "id": "5e462cac-f087-4878-b8e6-34da13d16f45",
   "metadata": {},
   "outputs": [
    {
     "name": "stdout",
     "output_type": "stream",
     "text": [
      "[19, 39, 59, 79, 99, 119, 139, 159, 179, 199]\n",
      "10\n",
      "0.78\n"
     ]
    }
   ],
   "source": [
    "\n",
    "trial_length =[]\n",
    "temp1 = 0\n",
    "target_distance = []\n",
    "dist = 0.0\n",
    "length = len(state_log_pointing_1To1['episode_09']['trial_idx'])\n",
    "for x in range(length):\n",
    "    if state_log_pointing_1To1['episode_09']['trial_idx'][x] != temp1:\n",
    "       \n",
    "        temp1+=1\n",
    "        trial_length.append(x-1)\n",
    "        \n",
    "print(trial_length)\n",
    "no_trials = len(trial_length)\n",
    "print(no_trials)\n",
    "\n",
    "for x in range(no_trials):\n",
    "    dist = np.linalg.norm((state_log_pointing_1To1[\"episode_09\"][\"hand_2distph_xpos\"][x] - state_log_pointing_1To1[\"episode_09\"][\"target_position\"][x]))\n",
    "    target_distance.append(dist)\n",
    "    \n",
    "print(round(np.mean(target_distance),2))\n",
    "    \n",
    "        \n",
    "    \n",
    "    "
   ]
  },
  {
   "cell_type": "code",
   "execution_count": 489,
   "id": "2791a87d-1282-43df-b682-a986c7699e9d",
   "metadata": {},
   "outputs": [],
   "source": [
    "epi_mean_target_hand_dist_1To1 = [0.7, 0.83, 0.84, 0.77, 0.81, 0.76, 0.84, 0.71, 0.79, 0.78]"
   ]
  },
  {
   "cell_type": "code",
   "execution_count": 490,
   "id": "e9c3ee69-1f2c-46c1-b306-6f2749da6238",
   "metadata": {},
   "outputs": [
    {
     "name": "stdout",
     "output_type": "stream",
     "text": [
      "[0.7, 0.83, 0.84, 0.77, 0.81, 0.76, 0.84, 0.71, 0.79, 0.78]\n"
     ]
    }
   ],
   "source": [
    "print(epi_mean_target_hand_dist_1To1)"
   ]
  },
  {
   "cell_type": "markdown",
   "id": "b2307c3b-aff1-4375-b6e9-9dc29f210a9f",
   "metadata": {},
   "source": [
    "# Pointing original"
   ]
  },
  {
   "cell_type": "code",
   "execution_count": 492,
   "id": "f56dafb3-47ca-4686-8048-ca70f4f9ae5b",
   "metadata": {},
   "outputs": [],
   "source": [
    "state_log_pointing_original = np.load(\"pointing_original/state_log.pickle\", allow_pickle=True)"
   ]
  },
  {
   "cell_type": "code",
   "execution_count": 504,
   "id": "37a85f9f-c50d-4f5d-8565-abee5fcef8e5",
   "metadata": {},
   "outputs": [
    {
     "name": "stdout",
     "output_type": "stream",
     "text": [
      "[86, 145, 213, 288, 352, 419, 492, 561, 626, 689]\n",
      "10\n",
      "0.61\n"
     ]
    }
   ],
   "source": [
    "\n",
    "trial_length =[]\n",
    "temp1 = 0\n",
    "target_distance = []\n",
    "dist = 0.0\n",
    "length = len(state_log_pointing_original['episode_09']['trial_idx'])\n",
    "for x in range(length):\n",
    "    if state_log_pointing_original['episode_09']['trial_idx'][x] != temp1:\n",
    "       \n",
    "        temp1+=1\n",
    "        trial_length.append(x-1)\n",
    "        \n",
    "print(trial_length)\n",
    "no_trials = len(trial_length)\n",
    "print(no_trials)\n",
    "\n",
    "for x in range(no_trials):\n",
    "    dist = np.linalg.norm((state_log_pointing_original[\"episode_09\"][\"hand_2distph_xpos\"][x] - state_log_pointing_original[\"episode_09\"][\"target_position\"][x]))\n",
    "    target_distance.append(dist)\n",
    "    \n",
    "print(round(np.mean(target_distance),2))\n",
    "\n",
    "        \n",
    "    \n",
    "    "
   ]
  },
  {
   "cell_type": "code",
   "execution_count": 505,
   "id": "d7225797-fa19-426f-ac42-c499ae53420d",
   "metadata": {},
   "outputs": [],
   "source": [
    "epi_mean_target_hand_dist_poiting =[0.88, 0.68, 0.67 , 1.05, 0.66, 0.67, 0.7, 0.97, 0.93, 0.61]"
   ]
  },
  {
   "cell_type": "code",
   "execution_count": 506,
   "id": "60373128-89fb-4e35-83a6-d1f1bff6efaf",
   "metadata": {},
   "outputs": [
    {
     "name": "stdout",
     "output_type": "stream",
     "text": [
      "[0.88, 0.68, 0.67, 1.05, 0.66, 0.67, 0.7, 0.97, 0.93, 0.61]\n"
     ]
    }
   ],
   "source": [
    "print(epi_mean_target_hand_dist_poiting)"
   ]
  },
  {
   "cell_type": "markdown",
   "id": "c7b4c546-6149-4f9f-b528-301743c7d074",
   "metadata": {},
   "source": [
    "# Pointing Evals"
   ]
  },
  {
   "cell_type": "code",
   "execution_count": 507,
   "id": "088366b5-7acd-4453-a4d3-ee53e5e3a641",
   "metadata": {},
   "outputs": [
    {
     "data": {
      "image/png": "[encoded data removed]",
      "text/plain": [
       "<Figure size 640x480 with 1 Axes>"
      ]
     },
     "metadata": {},
     "output_type": "display_data"
    }
   ],
   "source": [
    "epi_num = np.arange(0, 10, 1)\n",
    "fig, ax = plt.subplots()\n",
    "\n",
    "\n",
    "ax.set(xlabel='episode', ylabel='dist',\n",
    "       title='Average hand to target distance per trial')\n",
    "ax.plot(epi_num, epi_mean_target_hand_dist_subgoal, label = 'Pointing_subgoals_approach')\n",
    "ax.plot(epi_num, epi_mean_target_hand_dist_1To1, label = 'Pointing_subgoals_1:1_approach')\n",
    "ax.plot(epi_num, epi_mean_target_hand_dist_frameskip, label = 'Pointing_frame_skip_approach')\n",
    "ax.plot(epi_num, epi_mean_target_hand_dist_poiting,label = 'Pointing_without_llc')\n",
    "ax.legend()\n",
    "fig.savefig(\"Avg_handtotarget_dist_per_episode.png\")\n",
    "plt.show()"
   ]
  },
  {
   "cell_type": "markdown",
   "id": "0931ee2d-8925-4a36-bb87-46e5d03fad67",
   "metadata": {},
   "source": [
    "# Choice Reaction Original"
   ]
  },
  {
   "cell_type": "code",
   "execution_count": 509,
   "id": "9b476001-f8aa-46da-9643-b907cee3eb38",
   "metadata": {},
   "outputs": [],
   "source": [
    "state_log_choice_reaction = np.load(\"choice_reaction_original/state_log.pickle\", allow_pickle=True)\n"
   ]
  },
  {
   "cell_type": "code",
   "execution_count": 510,
   "id": "56ffb10c-e95c-4a24-99e8-555dbb3dc046",
   "metadata": {},
   "outputs": [
    {
     "data": {
      "text/plain": [
       "dict_keys(['timestep', 'qpos', 'qvel', 'qacc', 'act', 'ctrl', 'steps', 'current_button', 'trial_idx', 'targets_hit', 'target_hit', 'new_button_generated', 'terminated', 'truncated', 'termination', 'hand_2distph_xpos', 'hand_2distph_xmat'])"
      ]
     },
     "execution_count": 510,
     "metadata": {},
     "output_type": "execute_result"
    }
   ],
   "source": [
    "state_log_choice_reaction[\"episode_00\"].keys()"
   ]
  },
  {
   "cell_type": "code",
   "execution_count": 511,
   "id": "244cb702-12ac-405e-bd11-3b809e47cccf",
   "metadata": {},
   "outputs": [
    {
     "name": "stdout",
     "output_type": "stream",
     "text": [
      "100\n"
     ]
    }
   ],
   "source": [
    "total_successful_hits = state_log_choice_reaction['episode_00']['targets_hit'][-1] + state_log_choice_reaction['episode_01']['targets_hit'][-1] + state_log_choice_reaction['episode_02']['targets_hit'][-1] + state_log_choice_reaction['episode_03']['targets_hit'][-1] + state_log_choice_reaction['episode_04']['targets_hit'][-1] +state_log_choice_reaction['episode_05']['targets_hit'][-1] +state_log_choice_reaction['episode_06']['targets_hit'][-1] +state_log_choice_reaction['episode_07']['targets_hit'][-1] +state_log_choice_reaction['episode_08']['targets_hit'][-1] +state_log_choice_reaction['episode_09']['targets_hit'][-1] \n",
    "\n",
    "print(total_successful_hits)"
   ]
  },
  {
   "cell_type": "code",
   "execution_count": 512,
   "id": "bd61872e-29ff-4316-a332-c62b16db9c33",
   "metadata": {},
   "outputs": [
    {
     "data": {
      "text/plain": [
       "3517"
      ]
     },
     "execution_count": 512,
     "metadata": {},
     "output_type": "execute_result"
    }
   ],
   "source": [
    "len(state_log_choice_reaction['episode_00']['current_button']) + len(state_log_choice_reaction['episode_01']['current_button']) + len(state_log_choice_reaction['episode_02']['current_button']) + len(state_log_choice_reaction['episode_03']['current_button']) + len(state_log_choice_reaction['episode_04']['current_button']) + len(state_log_choice_reaction['episode_05']['current_button']) + len(state_log_choice_reaction['episode_06']['current_button']) + len(state_log_choice_reaction['episode_07']['current_button']) + len(state_log_choice_reaction['episode_08']['current_button']) + len(state_log_choice_reaction['episode_09']['current_button'])"
   ]
  },
  {
   "cell_type": "code",
   "execution_count": 364,
   "id": "1a1ef4dc-7bf7-4774-81dc-28c8a4831266",
   "metadata": {},
   "outputs": [],
   "source": [
    "df_cr = pd.DataFrame(target_hit_cr, columns= ['target_hit_cr'] )"
   ]
  },
  {
   "cell_type": "code",
   "execution_count": 370,
   "id": "25b42797-745f-42a8-a8ed-81e9521b5bb9",
   "metadata": {},
   "outputs": [],
   "source": [
    "df_cr.to_csv(r'export_dataframe.csv', index=False, header=True)"
   ]
  },
  {
   "cell_type": "code",
   "execution_count": 508,
   "id": "fd6bd194-3e72-41c5-9d5e-2c01b2a2641e",
   "metadata": {},
   "outputs": [
    {
     "name": "stdout",
     "output_type": "stream",
     "text": [
      "[69, 72, 67, 67, 71, 78, 69, 64, 73, 73]\n"
     ]
    }
   ],
   "source": [
    "#per_trial = no_of_steps * 2ms\n",
    "\n",
    "cr_average_time_to_reach_button = [ 69 , 72 , 67 , 67 , 71 , 78 , 69 , 64 , 73 , 73] \n",
    "print(cr_average_time_to_reach_button)"
   ]
  },
  {
   "cell_type": "markdown",
   "id": "b6a11cc5-3815-42a3-a903-98ee1e260b2a",
   "metadata": {},
   "source": [
    "# Choice Reaction Subgoal"
   ]
  },
  {
   "cell_type": "code",
   "execution_count": 513,
   "id": "12b3e469-8aa3-4ae8-88c9-424fd23174ee",
   "metadata": {},
   "outputs": [],
   "source": [
    "state_log_choice_reaction_subgoal = np.load(\"choice_reaction_subgoal/state_log.pickle\", allow_pickle=True)"
   ]
  },
  {
   "cell_type": "code",
   "execution_count": 514,
   "id": "38cc69b0-3dda-43d3-8935-2f11321a392f",
   "metadata": {},
   "outputs": [
    {
     "name": "stdout",
     "output_type": "stream",
     "text": [
      "100\n"
     ]
    }
   ],
   "source": [
    "total_successful_hits = state_log_choice_reaction_subgoal['episode_00']['targets_hit'][-1] + state_log_choice_reaction_subgoal['episode_01']['targets_hit'][-1] + state_log_choice_reaction_subgoal['episode_02']['targets_hit'][-1] + state_log_choice_reaction_subgoal['episode_03']['targets_hit'][-1] + state_log_choice_reaction_subgoal['episode_04']['targets_hit'][-1] +state_log_choice_reaction_subgoal['episode_05']['targets_hit'][-1] +state_log_choice_reaction_subgoal['episode_06']['targets_hit'][-1] +state_log_choice_reaction_subgoal['episode_07']['targets_hit'][-1] +state_log_choice_reaction_subgoal['episode_08']['targets_hit'][-1] +state_log_choice_reaction_subgoal['episode_09']['targets_hit'][-1] \n",
    "\n",
    "print(total_successful_hits)"
   ]
  },
  {
   "cell_type": "code",
   "execution_count": 515,
   "id": "95925f30-d84e-4f6d-9539-48f3e93171e5",
   "metadata": {},
   "outputs": [
    {
     "data": {
      "text/plain": [
       "1351"
      ]
     },
     "execution_count": 515,
     "metadata": {},
     "output_type": "execute_result"
    }
   ],
   "source": [
    "len(state_log_choice_reaction_subgoal['episode_00']['current_button']) + len(state_log_choice_reaction_subgoal['episode_01']['current_button']) + len(state_log_choice_reaction_subgoal['episode_02']['current_button']) + len(state_log_choice_reaction_subgoal['episode_03']['current_button']) + len(state_log_choice_reaction_subgoal['episode_04']['current_button']) + len(state_log_choice_reaction_subgoal['episode_05']['current_button']) + len(state_log_choice_reaction_subgoal['episode_06']['current_button']) + len(state_log_choice_reaction_subgoal['episode_07']['current_button']) + len(state_log_choice_reaction_subgoal['episode_08']['current_button']) + len(state_log_choice_reaction_subgoal['episode_09']['current_button'])"
   ]
  },
  {
   "cell_type": "code",
   "execution_count": 516,
   "id": "c22d4842-5451-4603-a895-82c2839ca7c1",
   "metadata": {},
   "outputs": [],
   "source": [
    "target_hit_cr_subgoal = state_log_choice_reaction_subgoal['episode_00']['target_hit'] + state_log_choice_reaction_subgoal['episode_01']['target_hit'] + state_log_choice_reaction_subgoal['episode_02']['target_hit'] + state_log_choice_reaction_subgoal['episode_03']['target_hit'] + state_log_choice_reaction_subgoal['episode_04']['target_hit'] + state_log_choice_reaction_subgoal['episode_05']['target_hit'] + state_log_choice_reaction_subgoal['episode_06']['target_hit'] + state_log_choice_reaction_subgoal['episode_07']['target_hit'] + state_log_choice_reaction_subgoal['episode_08']['target_hit'] + state_log_choice_reaction_subgoal['episode_09']['target_hit'] "
   ]
  },
  {
   "cell_type": "code",
   "execution_count": 517,
   "id": "0941725c-b42a-46a2-83d0-70fc9319ae48",
   "metadata": {},
   "outputs": [
    {
     "data": {
      "text/plain": [
       "1351"
      ]
     },
     "execution_count": 517,
     "metadata": {},
     "output_type": "execute_result"
    }
   ],
   "source": [
    "len(target_hit_cr_subgoal)"
   ]
  },
  {
   "cell_type": "code",
   "execution_count": 518,
   "id": "54f69ca4-5a6e-4f26-9858-7ec1521fb4b6",
   "metadata": {},
   "outputs": [],
   "source": [
    "steps_cr_subgoal = state_log_choice_reaction_subgoal['episode_00']['steps'] + state_log_choice_reaction_subgoal['episode_01']['steps'] + state_log_choice_reaction_subgoal['episode_02']['steps'] + state_log_choice_reaction_subgoal['episode_03']['steps'] + state_log_choice_reaction_subgoal['episode_04']['steps'] + state_log_choice_reaction_subgoal['episode_05']['steps'] + state_log_choice_reaction_subgoal['episode_06']['steps'] + state_log_choice_reaction_subgoal['episode_07']['steps'] + state_log_choice_reaction_subgoal['episode_08']['steps'] + state_log_choice_reaction_subgoal['episode_09']['steps'] "
   ]
  },
  {
   "cell_type": "code",
   "execution_count": 519,
   "id": "76c2eac7-3c8b-4263-afa9-60b383299277",
   "metadata": {},
   "outputs": [],
   "source": [
    "temp = []\n",
    "for x in range(len(steps_cr_latest)):\n",
    "    y = [steps_cr_subgoal[x],target_hit_cr_subgoal[x]]\n",
    "    temp.append(y)\n",
    "    \n",
    "df_cr_subgoal = pd.DataFrame(temp, columns= ['step','target_hit'] )\n",
    "df_cr_subgoal.to_csv(r'cr_subgoal.csv', index=False, header=True)"
   ]
  },
  {
   "cell_type": "code",
   "execution_count": 520,
   "id": "7630fe28-ede7-4f4b-934f-35e344f293c3",
   "metadata": {},
   "outputs": [
    {
     "name": "stdout",
     "output_type": "stream",
     "text": [
      "[27, 26, 25, 26, 24, 27, 28, 25, 31, 31]\n"
     ]
    }
   ],
   "source": [
    "# INCLUDES 20 INTERNAL STEPS FOR LLC: per_trial = no_of_steps * 2ms(HLC)\n",
    "\n",
    "cr_subgoal_average_time_to_reach_button = [ 27 , 26 , 25 , 26 , 24 , 27 , 28 , 25 , 31 , 31]\n",
    "print(cr_subgoal_average_time_to_reach_button)"
   ]
  },
  {
   "cell_type": "markdown",
   "id": "789e09f1-1bbf-44b7-9cf9-c10c8100f5ee",
   "metadata": {},
   "source": [
    "# Choice Reaction subgoal latest"
   ]
  },
  {
   "cell_type": "code",
   "execution_count": 379,
   "id": "9bf3406d-1054-4b68-8da9-a9c8d0191cbf",
   "metadata": {},
   "outputs": [],
   "source": [
    "state_log_Choice_reaction_latest = np.load(\"choice_reaction_subgoal_latest/state_log.pickle\", allow_pickle=True)"
   ]
  },
  {
   "cell_type": "code",
   "execution_count": 352,
   "id": "472757eb-97ea-4694-a19a-10c3f2f50223",
   "metadata": {},
   "outputs": [
    {
     "name": "stdout",
     "output_type": "stream",
     "text": [
      "100\n"
     ]
    }
   ],
   "source": [
    "total_successful_hits = state_log['episode_00']['targets_hit'][-1] + state_log['episode_01']['targets_hit'][-1] + state_log['episode_02']['targets_hit'][-1] + state_log['episode_03']['targets_hit'][-1] + state_log['episode_04']['targets_hit'][-1] +state_log['episode_05']['targets_hit'][-1] +state_log['episode_06']['targets_hit'][-1] +state_log['episode_07']['targets_hit'][-1] +state_log['episode_08']['targets_hit'][-1] +state_log['episode_09']['targets_hit'][-1] \n",
    "\n",
    "print(total_successful_hits)"
   ]
  },
  {
   "cell_type": "code",
   "execution_count": 373,
   "id": "c99e4966-e9c5-4c12-9543-0fc45352a643",
   "metadata": {},
   "outputs": [
    {
     "data": {
      "text/plain": [
       "2604"
      ]
     },
     "execution_count": 373,
     "metadata": {},
     "output_type": "execute_result"
    }
   ],
   "source": [
    "len(state_log['episode_00']['current_button']) + len(state_log['episode_01']['current_button']) + len(state_log['episode_02']['current_button']) + len(state_log['episode_03']['current_button']) + len(state_log['episode_04']['current_button']) + len(state_log['episode_05']['current_button']) + len(state_log['episode_06']['current_button']) + len(state_log['episode_07']['current_button']) + len(state_log['episode_08']['current_button']) + len(state_log['episode_09']['current_button'])"
   ]
  },
  {
   "cell_type": "code",
   "execution_count": 380,
   "id": "7fca8a49-4b37-4c9f-8877-180438340bee",
   "metadata": {},
   "outputs": [],
   "source": [
    "target_hit_cr_latest = state_log['episode_00']['target_hit'] + state_log['episode_01']['target_hit'] + state_log['episode_02']['target_hit'] + state_log['episode_03']['target_hit'] + state_log['episode_04']['target_hit'] + state_log['episode_05']['target_hit'] + state_log['episode_06']['target_hit'] + state_log['episode_07']['target_hit'] + state_log['episode_08']['target_hit'] + state_log['episode_09']['target_hit'] "
   ]
  },
  {
   "cell_type": "code",
   "execution_count": 385,
   "id": "92179a56-fd2d-4c83-8649-a8cb5a8156dd",
   "metadata": {},
   "outputs": [
    {
     "data": {
      "text/plain": [
       "2604"
      ]
     },
     "execution_count": 385,
     "metadata": {},
     "output_type": "execute_result"
    }
   ],
   "source": [
    "len(target_hit_cr_latest)"
   ]
  },
  {
   "cell_type": "code",
   "execution_count": 381,
   "id": "a53d3790-0bde-4812-8e65-ab21b2c40ce9",
   "metadata": {},
   "outputs": [],
   "source": [
    "steps_cr_latest = state_log['episode_00']['steps'] + state_log['episode_01']['steps'] + state_log['episode_02']['steps'] + state_log['episode_03']['steps'] + state_log['episode_04']['steps'] + state_log['episode_05']['steps'] + state_log['episode_06']['steps'] + state_log['episode_07']['steps'] + state_log['episode_08']['steps'] + state_log['episode_09']['steps'] "
   ]
  },
  {
   "cell_type": "code",
   "execution_count": 386,
   "id": "95928872-76ba-47de-9de3-d83e64134b23",
   "metadata": {},
   "outputs": [
    {
     "data": {
      "text/plain": [
       "2604"
      ]
     },
     "execution_count": 386,
     "metadata": {},
     "output_type": "execute_result"
    }
   ],
   "source": [
    "len(steps_cr_latest)"
   ]
  },
  {
   "cell_type": "code",
   "execution_count": 388,
   "id": "567df9c8-b69d-49c1-9376-898a64d47ef4",
   "metadata": {},
   "outputs": [],
   "source": [
    "temp = []\n",
    "for x in range(len(steps_cr_latest)):\n",
    "    y = [steps_cr_latest[x],target_hit_cr_latest[x]]\n",
    "    temp.append(y)"
   ]
  },
  {
   "cell_type": "code",
   "execution_count": 390,
   "id": "8aa78d31-e4d8-43ac-abd6-badcb085cee4",
   "metadata": {},
   "outputs": [],
   "source": [
    "df_cr_latest = pd.DataFrame(temp, columns= ['step','target_hit'] )"
   ]
  },
  {
   "cell_type": "code",
   "execution_count": 391,
   "id": "ba2908fb-c0b3-4536-8210-df690f0d2626",
   "metadata": {},
   "outputs": [],
   "source": [
    "df_cr_latest.to_csv(r'cr_latest.csv', index=False, header=True)"
   ]
  },
  {
   "cell_type": "code",
   "execution_count": 530,
   "id": "c96aa330-f32a-4681-935a-313b3c5f2538",
   "metadata": {},
   "outputs": [
    {
     "name": "stdout",
     "output_type": "stream",
     "text": [
      "[840, 48, 37, 70, 75, 51, 64, 30, 46, 58]\n"
     ]
    }
   ],
   "source": [
    "# INCLUDES 20 INTERNAL STEPS FOR LLC: per_trial = no_of_steps * 2ms(HLC)\n",
    "\n",
    "cr_subgoal_latest_average_time_to_reach_button = [ 42 , 48 , 37 , 70 , 75 , 51 , 64 , 30 , 46 , 58]  \n",
    "print(cr_subgoal_latest_average_time_to_reach_button)"
   ]
  },
  {
   "cell_type": "code",
   "execution_count": 523,
   "id": "c103bc81-8b47-4e32-aa46-b75edc1a96c0",
   "metadata": {},
   "outputs": [
    {
     "data": {
      "image/png": "[encoded data removed]",
      "text/plain": [
       "<Figure size 640x480 with 1 Axes>"
      ]
     },
     "metadata": {},
     "output_type": "display_data"
    }
   ],
   "source": [
    "epi_num = np.arange(0, 10, 1)\n",
    "fig, ax = plt.subplots()\n",
    "\n",
    "\n",
    "ax.set(xlabel='episode', ylabel='dist',\n",
    "       title='Average time  per episode')\n",
    "ax.plot(epi_num, cr_average_time_to_reach_button, label = 'Choice Reaction Original')\n",
    "ax.plot(epi_num, cr_subgoal_average_time_to_reach_button, label = 'Choice Reaction Subgoal')\n",
    "ax.plot(epi_num, cr_subgoal_latest_average_time_to_reach_button, label = 'Choice Reaction Latest')\n",
    "\n",
    "ax.legend()\n",
    "fig.savefig(\"Avg_time_CR_per_episode.png\")\n",
    "plt.show()"
   ]
  },
  {
   "cell_type": "code",
   "execution_count": null,
   "id": "e0feed50-b146-4c60-8d96-f7fc2811a856",
   "metadata": {},
   "outputs": [],
   "source": []
  }
 ],
 "metadata": {
  "kernelspec": {
   "display_name": "Python 3 (ipykernel)",
   "language": "python",
   "name": "python3"
  },
  "language_info": {
   "codemirror_mode": {
    "name": "ipython",
    "version": 3
   },
   "file_extension": ".py",
   "mimetype": "text/x-python",
   "name": "python",
   "nbconvert_exporter": "python",
   "pygments_lexer": "ipython3",
   "version": "3.9.13"
  },
  "scenes_data": {
   "active_scene": "Legacy Init",
   "init_scene": "Legacy Init",
   "scenes": [
    "Default Scene",
    "Legacy Init"
   ]
  }
 },
 "nbformat": 4,
 "nbformat_minor": 5
}
